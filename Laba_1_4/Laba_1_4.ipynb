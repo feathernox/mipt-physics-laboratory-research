{
 "cells": [
  {
   "cell_type": "markdown",
   "metadata": {},
   "source": [
    "# Работа 1.4. Исследование вынужденной прецессии гироскопа."
   ]
  },
  {
   "cell_type": "markdown",
   "metadata": {},
   "source": [
    "**Цель работы:** исследовать вынужденную прецессию уравновешенного симметричного гироскопа; установить зависимость угловой скорости вынужденной прецессии от величины момента сил, действующих на ось гироскопа; по угловой скорости прецессии определить угловую скорость вращения ротора гироскопа.\n",
    "\n",
    "**В работе используются:** гироскоп в кардановом подвесе, секундомер, набор грузов, отдельный ротор гироскопа, цилиндр известной массы, крутильный маятник, штангенциркуль, линейка.\n",
    "$\\newcommand\\diff[2]{\\frac{d{#1}}{d{#2}}}$\n",
    "$\\newcommand\\sqrdiff[2]{\\left|\\diff{#1}{#2}\\right|^2}$\n",
    "$\\newcommand\\err[1]{\\sigma^2_{#1}}$\n",
    "$\\newcommand\\ferr[2]{\\diff{#1}{#2} \\err{#2}}$"
   ]
  },
  {
   "cell_type": "markdown",
   "metadata": {},
   "source": [
    "## Теория"
   ]
  },
  {
   "cell_type": "markdown",
   "metadata": {},
   "source": [
    "$\\vec{P} = \\sum_{i} m_i \\vec{v_i}$\n",
    "\n",
    "$\\diff{\\vec{P}}{t} = \\sum_{i} \\vec{F_i}$\n",
    "\n",
    "$\\vec{L} = \\sum_{i} m_i \\left[ \\vec{r_i} \\times \\vec{v_i} \\right]$\n",
    "\n",
    "$\\vec{F_{ij}} = -\\vec{F_{ji}}$\n",
    "\n",
    "$\\diff{\\vec{L}}{t} = \\sum_i m_i \\left[ \\vec{r_i} \\times \\diff{v_i}{t} \\right] =\n",
    "\\sum_{i, j} \\left[ \\vec{r_i} \\times \\vec{F_{ij}} \\right] =\n",
    "\\sum_{i, j} \\left[ \\left(\\vec{r_i} - \\vec{r_j} \\right) \\times \\vec{F_{ij}} \\right] =\n",
    "0$\n",
    "\n",
    "$\\diff{\\vec{L}}{t} = \\sum_{i} \\left[ \\vec{r_i} \\times \\vec{F_i} \\right]$\n",
    "\n",
    "$\\diff{v}{t} = \\frac{2 \\pi v}{T} = \\omega v$\n",
    "\n",
    "$\\frac{2\\pi L}{T} = \\diff{L}{t} = \\omega L$\n",
    "\n",
    "$T = 2 \\pi \\sqrt{\\frac{J}{K}}$\n",
    "\n",
    "$\\left(\\frac{T_1}{T_2}\\right)^2 = \\frac{J_1}{J_2}$"
   ]
  },
  {
   "cell_type": "markdown",
   "metadata": {},
   "source": [
    "$f = 400 Гц$, $l = 10 см$, $r = 3 см$, $M = 400 г$, $m = 200 г$\n",
    "\n",
    "$\\omega = 2 \\pi f \\approx 2.5 кГц$\n",
    "\n",
    "$J = \\frac{Mr^2}{2}$\n",
    "\n",
    "$L = J \\omega = \\frac{4 \\cdot 10^2 \\cdot 9}{2} \\cdot 2.5 \\cdot 10^3 = 0.45 \\cdot 10^7$\n",
    "\n",
    "$\\frac{2 \\pi}{T} = \\Omega = \\frac{2 \\cdot 10^3}{0.45 \\cdot 10^7} = 4 \\cdot 10^{-4}$\n",
    "\n",
    "$T = \\frac{6.3}{4 \\cdot 10^{-4}} = 1.6 \\cdot 10^4$"
   ]
  },
  {
   "cell_type": "markdown",
   "metadata": {},
   "source": [
    "## Практика"
   ]
  },
  {
   "cell_type": "code",
   "execution_count": 46,
   "metadata": {
    "collapsed": true
   },
   "outputs": [],
   "source": [
    "import numpy as np\n",
    "import pandas as pd\n",
    "import matplotlib.pyplot as plt"
   ]
  },
  {
   "cell_type": "markdown",
   "metadata": {},
   "source": [
    "$I = m r^2$\n",
    "\n",
    "$\\sigma_{I} = \\sqrt{r^4 \\err{m} + (2 m r)^2 \\err{r}}$\n",
    "\n",
    "$m_ц = 1618.9 \\pm 0.5 г$\n",
    "\n",
    "$r_ц = 38.5 \\pm 0.5 мм$\n",
    "\n",
    "$I_ц = 2.40 \\pm 0.06 г \\cdot м^2$"
   ]
  },
  {
   "cell_type": "code",
   "execution_count": 7,
   "metadata": {
    "collapsed": true,
    "deletable": true,
    "editable": true
   },
   "outputs": [],
   "source": [
    "def inertia_moment(m, r):\n",
    "    return m * r ** 2\n",
    "\n",
    "def inertia_moment_err(m, m_err, r, r_err):\n",
    "    return np.sqrt(r ** 4 * m_err ** 2 + (2 * m * r) ** 2 * r_err ** 2)"
   ]
  },
  {
   "cell_type": "code",
   "execution_count": 16,
   "metadata": {
    "collapsed": false
   },
   "outputs": [
    {
     "name": "stdout",
     "output_type": "stream",
     "text": [
      "I_ц = 2.399614525 \\pm 0.06233205612514419\n"
     ]
    }
   ],
   "source": [
    "m, m_err = 1618.9, 0.5\n",
    "r, r_err = 0.0385, 0.0005\n",
    "I, I_err = inertia_moment(m, r), inertia_moment_err(m, m_err, r, r_err)\n",
    "print(\"I_ц = {} \\pm {}\".format(I, I_err))"
   ]
  },
  {
   "cell_type": "code",
   "execution_count": 18,
   "metadata": {
    "collapsed": false
   },
   "outputs": [
    {
     "data": {
      "text/html": [
       "<div>\n",
       "<table border=\"1\" class=\"dataframe\">\n",
       "  <thead>\n",
       "    <tr style=\"text-align: right;\">\n",
       "      <th></th>\n",
       "      <th>$T_ц$, с</th>\n",
       "      <th>$T_р$, с</th>\n",
       "    </tr>\n",
       "  </thead>\n",
       "  <tbody>\n",
       "    <tr>\n",
       "      <th>0</th>\n",
       "      <td>4.81</td>\n",
       "      <td>4.19</td>\n",
       "    </tr>\n",
       "    <tr>\n",
       "      <th>1</th>\n",
       "      <td>4.50</td>\n",
       "      <td>3.81</td>\n",
       "    </tr>\n",
       "    <tr>\n",
       "      <th>2</th>\n",
       "      <td>4.82</td>\n",
       "      <td>3.60</td>\n",
       "    </tr>\n",
       "    <tr>\n",
       "      <th>3</th>\n",
       "      <td>4.72</td>\n",
       "      <td>3.50</td>\n",
       "    </tr>\n",
       "    <tr>\n",
       "      <th>4</th>\n",
       "      <td>4.81</td>\n",
       "      <td>3.56</td>\n",
       "    </tr>\n",
       "  </tbody>\n",
       "</table>\n",
       "</div>"
      ],
      "text/plain": [
       "   $T_ц$, с  $T_р$, с\n",
       "0      4.81      4.19\n",
       "1      4.50      3.81\n",
       "2      4.82      3.60\n",
       "3      4.72      3.50\n",
       "4      4.81      3.56"
      ]
     },
     "execution_count": 18,
     "metadata": {},
     "output_type": "execute_result"
    }
   ],
   "source": [
    "table_0 = pd.read_excel('Laba_1_4.xlsx', 0)\n",
    "table_0.head(len(table_0))"
   ]
  },
  {
   "cell_type": "markdown",
   "metadata": {},
   "source": [
    "$T = \\frac{1}{n} \\sum_{i=1}^n T_i$\n",
    "\n",
    "$\\sigma_{T} = \\sqrt{\\frac{1}{n(n-1)} \\sum_{i=1}^n (T_i - T)^2}$\n",
    "\n",
    "$T_ц = 4.73 \\pm 0.06 с$\n",
    "\n",
    "$T_0 = 3.7 \\pm 0.1 с$"
   ]
  },
  {
   "cell_type": "code",
   "execution_count": 20,
   "metadata": {
    "collapsed": true
   },
   "outputs": [],
   "source": [
    "def period(T):\n",
    "    return np.mean(T)\n",
    "\n",
    "def period_err(T):\n",
    "    return np.sqrt(np.var(T) / (len(T) - 1))"
   ]
  },
  {
   "cell_type": "code",
   "execution_count": 21,
   "metadata": {
    "collapsed": false
   },
   "outputs": [
    {
     "name": "stdout",
     "output_type": "stream",
     "text": [
      "T_c = 4.731999999999999 \\pm 0.060778285596090956\n",
      "T_r = 3.732 \\pm 0.12583322295800906\n"
     ]
    }
   ],
   "source": [
    "T_c_all = table_0.values[:, 0]\n",
    "T_c, T_c_err = period(T_c_all), period_err(T_c_all)\n",
    "T_r_all = table_0.values[:, 1]\n",
    "T_r, T_r_err = period(T_r_all), period_err(T_r_all)\n",
    "print(\"T_c = {} \\pm {}\".format(T_c, T_c_err))\n",
    "print(\"T_r = {} \\pm {}\".format(T_r, T_r_err))"
   ]
  },
  {
   "cell_type": "markdown",
   "metadata": {},
   "source": [
    "$I_0 = I_ц \\frac{T^2_0}{T^2_ц}$\n",
    "\n",
    "$\\sigma_{I_0} =\\sqrt{\n",
    "\\left(\\frac{T_0}{T_ц}\\right)^4 \\err{I_ц} +\n",
    "\\left(\\frac{2 I_ц T_0}{T^2_ц}\\right)^2 \\err{T_0}  + \n",
    "\\left(\\frac{2 I_ц T^2_0}{T^3_ц}\\right)^2 \\err{T_ц} \n",
    "}$\n",
    "\n",
    "$I_0 = 1.5 \\pm 0.1 г \\cdot м^2$"
   ]
  },
  {
   "cell_type": "code",
   "execution_count": 24,
   "metadata": {
    "collapsed": true
   },
   "outputs": [],
   "source": [
    "def inertia_rt_moment(I_c, T_r, T_c):\n",
    "    return I_c * (T_r / T_c) ** 2\n",
    "\n",
    "def inertia_rt_moment_err(I_c, I_c_err, T_r, T_r_err, T_c, T_c_err):\n",
    "    return np.sqrt(\n",
    "        (T_r / T_c) ** 4 * I_c_err ** 2 +\n",
    "        (2 * I_c * T_r / T_c ** 2) ** 2 * T_r_err ** 2 +\n",
    "        (2 * I_c * T_r ** 2 / T_c ** 3) ** 2 * T_c_err ** 2\n",
    "    )"
   ]
  },
  {
   "cell_type": "code",
   "execution_count": 25,
   "metadata": {
    "collapsed": false
   },
   "outputs": [
    {
     "name": "stdout",
     "output_type": "stream",
     "text": [
      "I_r = 1.4925719660909986 \\pm 0.11447232164766621\n"
     ]
    }
   ],
   "source": [
    "I_r, I_r_err = inertia_rt_moment(I, T_r, T_c), inertia_rt_moment_err(I, I_err, T_r, T_r_err, T_c, T_c_err)\n",
    "print(\"I_r = {} \\pm {}\".format(I_r, I_r_err))"
   ]
  },
  {
   "cell_type": "markdown",
   "metadata": {},
   "source": [
    "$\\Omega = \\frac{\\alpha} {2 \\pi t}$\n",
    "\n",
    "$\\sigma_{\\Omega} =\n",
    "\\sqrt{\\frac{\\err{\\alpha}}{(2 \\pi t)^2} +\n",
    "\\left(\\frac{\\alpha} {2 \\pi t^2} \\right)^2 \\err{t}}$\n",
    "\n",
    "$L = m g r$\n",
    "\n",
    "$\\sigma_{L} = g \\sqrt{ m^2 \\err{r} + r^2 \\err{m}}$\n",
    "\n",
    "$r = 121 \\pm 1 мм$"
   ]
  },
  {
   "cell_type": "code",
   "execution_count": 40,
   "metadata": {
    "collapsed": false
   },
   "outputs": [],
   "source": [
    "def precession(alpha, t):\n",
    "    return alpha / (2 * np.pi * t)\n",
    "\n",
    "def precession_err(alpha, alpha_err, t, t_err):\n",
    "    return np.sqrt(\n",
    "        (alpha_err / (2 * np.pi * t)) ** 2 +\n",
    "        (alpha * t_err / (2 * np.pi * t ** 2)) ** 2 \n",
    "    )\n",
    "\n",
    "def torque(m, g, r):\n",
    "    return m * g * r\n",
    "\n",
    "def torque_err(m, m_err, g, r, r_err):\n",
    "    return g * np.sqrt(\n",
    "        (m * r_err) ** 2 +\n",
    "        (r * m_err) ** 2)"
   ]
  },
  {
   "cell_type": "code",
   "execution_count": 60,
   "metadata": {
    "collapsed": false
   },
   "outputs": [
    {
     "data": {
      "text/html": [
       "<div>\n",
       "<table border=\"1\" class=\"dataframe\">\n",
       "  <thead>\n",
       "    <tr style=\"text-align: right;\">\n",
       "      <th></th>\n",
       "      <th>$m$, г</th>\n",
       "      <th>$\\sigma_m$, г</th>\n",
       "      <th>$\\alpha$, $^{\\circ}$</th>\n",
       "      <th>$\\sigma_{\\alpha}$, $^{\\circ}$</th>\n",
       "      <th>$t$, с</th>\n",
       "      <th>$\\sigma_t$, с</th>\n",
       "      <th>$\\Omega$, мГц</th>\n",
       "      <th>$\\sigma_{\\Omega}$, мГц</th>\n",
       "      <th>$L$, $Н \\cdot мм$</th>\n",
       "      <th>$\\sigma_L$, $Н \\cdot мм$</th>\n",
       "    </tr>\n",
       "  </thead>\n",
       "  <tbody>\n",
       "    <tr>\n",
       "      <th>0</th>\n",
       "      <td>60</td>\n",
       "      <td>0.5</td>\n",
       "      <td>30</td>\n",
       "      <td>1</td>\n",
       "      <td>16.5</td>\n",
       "      <td>0.1</td>\n",
       "      <td>5.1</td>\n",
       "      <td>0.2</td>\n",
       "      <td>1.24</td>\n",
       "      <td>0.01</td>\n",
       "    </tr>\n",
       "    <tr>\n",
       "      <th>1</th>\n",
       "      <td>76</td>\n",
       "      <td>0.5</td>\n",
       "      <td>60</td>\n",
       "      <td>1</td>\n",
       "      <td>25.9</td>\n",
       "      <td>0.1</td>\n",
       "      <td>6.4</td>\n",
       "      <td>0.1</td>\n",
       "      <td>1.57</td>\n",
       "      <td>0.02</td>\n",
       "    </tr>\n",
       "    <tr>\n",
       "      <th>2</th>\n",
       "      <td>93</td>\n",
       "      <td>0.5</td>\n",
       "      <td>60</td>\n",
       "      <td>1</td>\n",
       "      <td>21.8</td>\n",
       "      <td>0.1</td>\n",
       "      <td>7.6</td>\n",
       "      <td>0.1</td>\n",
       "      <td>1.93</td>\n",
       "      <td>0.02</td>\n",
       "    </tr>\n",
       "    <tr>\n",
       "      <th>3</th>\n",
       "      <td>116</td>\n",
       "      <td>0.5</td>\n",
       "      <td>60</td>\n",
       "      <td>1</td>\n",
       "      <td>17.4</td>\n",
       "      <td>0.1</td>\n",
       "      <td>9.6</td>\n",
       "      <td>0.2</td>\n",
       "      <td>2.40</td>\n",
       "      <td>0.02</td>\n",
       "    </tr>\n",
       "    <tr>\n",
       "      <th>4</th>\n",
       "      <td>141</td>\n",
       "      <td>0.5</td>\n",
       "      <td>60</td>\n",
       "      <td>1</td>\n",
       "      <td>14.4</td>\n",
       "      <td>0.1</td>\n",
       "      <td>11.6</td>\n",
       "      <td>0.2</td>\n",
       "      <td>2.92</td>\n",
       "      <td>0.03</td>\n",
       "    </tr>\n",
       "    <tr>\n",
       "      <th>5</th>\n",
       "      <td>173</td>\n",
       "      <td>0.5</td>\n",
       "      <td>90</td>\n",
       "      <td>1</td>\n",
       "      <td>17.1</td>\n",
       "      <td>0.1</td>\n",
       "      <td>14.6</td>\n",
       "      <td>0.2</td>\n",
       "      <td>3.58</td>\n",
       "      <td>0.03</td>\n",
       "    </tr>\n",
       "    <tr>\n",
       "      <th>6</th>\n",
       "      <td>215</td>\n",
       "      <td>0.5</td>\n",
       "      <td>90</td>\n",
       "      <td>1</td>\n",
       "      <td>13.5</td>\n",
       "      <td>0.1</td>\n",
       "      <td>18.5</td>\n",
       "      <td>0.2</td>\n",
       "      <td>4.45</td>\n",
       "      <td>0.04</td>\n",
       "    </tr>\n",
       "    <tr>\n",
       "      <th>7</th>\n",
       "      <td>268</td>\n",
       "      <td>0.5</td>\n",
       "      <td>120</td>\n",
       "      <td>1</td>\n",
       "      <td>14.6</td>\n",
       "      <td>0.1</td>\n",
       "      <td>22.8</td>\n",
       "      <td>0.2</td>\n",
       "      <td>5.55</td>\n",
       "      <td>0.05</td>\n",
       "    </tr>\n",
       "    <tr>\n",
       "      <th>8</th>\n",
       "      <td>335</td>\n",
       "      <td>0.5</td>\n",
       "      <td>180</td>\n",
       "      <td>1</td>\n",
       "      <td>17.6</td>\n",
       "      <td>0.1</td>\n",
       "      <td>28.4</td>\n",
       "      <td>0.2</td>\n",
       "      <td>6.94</td>\n",
       "      <td>0.06</td>\n",
       "    </tr>\n",
       "  </tbody>\n",
       "</table>\n",
       "</div>"
      ],
      "text/plain": [
       "   $m$, г  $\\sigma_m$, г  $\\alpha$, $^{\\circ}$  $\\sigma_{\\alpha}$, $^{\\circ}$  \\\n",
       "0      60            0.5                    30                              1   \n",
       "1      76            0.5                    60                              1   \n",
       "2      93            0.5                    60                              1   \n",
       "3     116            0.5                    60                              1   \n",
       "4     141            0.5                    60                              1   \n",
       "5     173            0.5                    90                              1   \n",
       "6     215            0.5                    90                              1   \n",
       "7     268            0.5                   120                              1   \n",
       "8     335            0.5                   180                              1   \n",
       "\n",
       "   $t$, с  $\\sigma_t$, с  $\\Omega$, мГц  $\\sigma_{\\Omega}$, мГц  \\\n",
       "0    16.5            0.1            5.1                     0.2   \n",
       "1    25.9            0.1            6.4                     0.1   \n",
       "2    21.8            0.1            7.6                     0.1   \n",
       "3    17.4            0.1            9.6                     0.2   \n",
       "4    14.4            0.1           11.6                     0.2   \n",
       "5    17.1            0.1           14.6                     0.2   \n",
       "6    13.5            0.1           18.5                     0.2   \n",
       "7    14.6            0.1           22.8                     0.2   \n",
       "8    17.6            0.1           28.4                     0.2   \n",
       "\n",
       "   $L$, $Н \\cdot мм$  $\\sigma_L$, $Н \\cdot мм$  \n",
       "0               1.24                      0.01  \n",
       "1               1.57                      0.02  \n",
       "2               1.93                      0.02  \n",
       "3               2.40                      0.02  \n",
       "4               2.92                      0.03  \n",
       "5               3.58                      0.03  \n",
       "6               4.45                      0.04  \n",
       "7               5.55                      0.05  \n",
       "8               6.94                      0.06  "
      ]
     },
     "execution_count": 60,
     "metadata": {},
     "output_type": "execute_result"
    }
   ],
   "source": [
    "table_1 = pd.read_excel('Laba_1_4.xlsx', 1)\n",
    "g = 9.80665\n",
    "r, r_err = 121, 1\n",
    "m, m_err = 0.001 * table_1.values[:, 0] / 180 * np.pi, 0.001 * table_1.values[:, 1] / 180 * np.pi\n",
    "alpha, alpha_err = table_1.values[:, 2] / 180 * np.pi, table_1.values[:, 3] / 180 * np.pi\n",
    "t, t_err = table_1.values[:, 4], table_1.values[:, 5]\n",
    "prec, prec_err = precession(alpha, t) * 1000, precession_err(alpha, alpha_err, t, t_err) * 1000\n",
    "tor, tor_err = torque(m, g, r), torque_err(m, m_err, g, r, r_err)\n",
    "table_1['$\\Omega$, мГц'] = np.around(prec, decimals=1)\n",
    "table_1['$\\sigma_{\\Omega}$, мГц'] = np.around(prec_err, decimals=1)\n",
    "table_1['$L$, $Н \\cdot мм$'] = np.around(tor, decimals=2)\n",
    "table_1['$\\sigma_L$, $Н \\cdot мм$'] = np.around(tor_err, decimals=2)\n",
    "table_1.head(len(table_1))"
   ]
  },
  {
   "cell_type": "code",
   "execution_count": 61,
   "metadata": {
    "collapsed": false
   },
   "outputs": [
    {
     "data": {
      "image/png": "[encoded data removed]",
      "text/plain": [
       "<matplotlib.figure.Figure at 0x7f2db1cf6828>"
      ]
     },
     "metadata": {},
     "output_type": "display_data"
    }
   ],
   "source": [
    "a, b = np.polyfit(tor, prec, deg=1)\n",
    "a_1, b_1 = np.polyfit(tor, prec - prec_err * np.linspace(1, -1, len(prec_err)), deg=1)\n",
    "a_2, b_2 = np.polyfit(tor, prec + prec_err * np.linspace(1, -1, len(prec_err)), deg=1)\n",
    "\n",
    "plt.figure(figsize=(14, 8))\n",
    "plt.grid(linestyle='--')\n",
    "plt.title('Зависимость $\\Omega$ от $L$', fontweight='bold', fontsize=16)\n",
    "plt.xlabel('$L, Н \\cdot мм$', fontsize=16)\n",
    "plt.ylabel('$\\Omega, мГц$', fontsize=16)\n",
    "plt.plot(tor, b + tor * a, color='dimgrey')\n",
    "plt.plot(tor, b_1 + tor * a_1, color='dimgrey', ls='--')\n",
    "plt.plot(tor, b_2 + tor * a_2, color='dimgrey', ls='--')\n",
    "plt.scatter(tor, prec, color='darkslategrey', s=0.4)\n",
    "plt.errorbar(tor, prec, xerr=tor_err, yerr=prec_err, ls ='none', color = 'deeppink')\n",
    "plt.show()"
   ]
  },
  {
   "cell_type": "markdown",
   "metadata": {},
   "source": [
    "$a = \\frac{\\Omega}{L}$\n",
    "\n",
    "$\\omega_0 = a I_0$\n",
    "\n",
    "$\\sigma_{\\omega_0} = \\sqrt{a^2 \\err{I_0} + I^2_0 \\err{a}}$\n",
    "\n",
    "$\\omega_0 = (6.2 \\pm 0.5) \\cdot 10^{-3} \\; радиан/с$"
   ]
  },
  {
   "cell_type": "code",
   "execution_count": 62,
   "metadata": {
    "collapsed": true
   },
   "outputs": [],
   "source": [
    "def frequency(a, I):\n",
    "    return a * I\n",
    "\n",
    "def frequency_err(a, a_err, I, I_err):\n",
    "    return np.sqrt(\n",
    "        (a * I_err) ** 2 +\n",
    "        (I * a_err) ** 2)"
   ]
  },
  {
   "cell_type": "code",
   "execution_count": 63,
   "metadata": {
    "collapsed": false
   },
   "outputs": [
    {
     "name": "stdout",
     "output_type": "stream",
     "text": [
      "omega_0 = 6.2 \\pm 0.5\n"
     ]
    }
   ],
   "source": [
    "a_err = abs(a_1 - a_2) / np.sqrt(len(tor))\n",
    "freq = frequency(a, I_r)\n",
    "freq_err = frequency_err(a, a_err, I_r, I_r_err)\n",
    "print(\"omega_0 = {:.2} \\pm {:.1}\".format(freq, freq_err))"
   ]
  }
 ],
 "metadata": {
  "kernelspec": {
   "display_name": "Python 3",
   "language": "python",
   "name": "python3"
  },
  "language_info": {
   "codemirror_mode": {
    "name": "ipython",
    "version": 3
   },
   "file_extension": ".py",
   "mimetype": "text/x-python",
   "name": "python",
   "nbconvert_exporter": "python",
   "pygments_lexer": "ipython3",
   "version": "3.5.2"
  }
 },
 "nbformat": 4,
 "nbformat_minor": 2
}
