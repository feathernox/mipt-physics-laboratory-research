{
 "cells": [
  {
   "cell_type": "markdown",
   "metadata": {
    "deletable": true,
    "editable": true
   },
   "source": [
    "# Работа 1.1. Определение скорости полета пули при помощи баллистического маятника"
   ]
  },
  {
   "cell_type": "markdown",
   "metadata": {
    "deletable": true,
    "editable": true
   },
   "source": [
    "**Цель работы:** определить скорость полёта пули, применяя законы\n",
    "сохранения и используя баллистический маятник."
   ]
  },
  {
   "cell_type": "markdown",
   "metadata": {
    "deletable": true,
    "editable": true
   },
   "source": [
    "**В работе используются:** духовое ружье на штативе, осветитель, оптическая система для измерения отклонений маятника, измерительная линейка, пули и весы для их взвешивания, баллистический маятник."
   ]
  },
  {
   "cell_type": "markdown",
   "metadata": {
    "deletable": true,
    "editable": true
   },
   "source": [
    "## Теория"
   ]
  },
  {
   "cell_type": "markdown",
   "metadata": {
    "deletable": true,
    "editable": true
   },
   "source": [
    "Т.к. скорость полета пули достаточно велика (порядка 150 м/с), то определить ее напрямую &mdash; сложная задача.\n",
    "Воспользуемся законами сохранения, чтобы ее решить.\n",
    "Будем производить выстрелы из духового ружья по оси цилиндра баллистического маятника."
   ]
  },
  {
   "cell_type": "markdown",
   "metadata": {
    "deletable": true,
    "editable": true
   },
   "source": [
    "Обозначим:\n",
    "\n",
    "- $m$ &mdash; масса пули;\n",
    "- $M$ &mdash; масса цилиндра баллистического маятника;\n",
    "- $L$ &mdash; длина маятника;\n",
    "- $v_0$ &mdash; скорость летящей пули;\n",
    "- $V$ &mdash; скорость цилиндра и пули после неупругого соударения;"
   ]
  },
  {
   "cell_type": "markdown",
   "metadata": {
    "deletable": true,
    "editable": true
   },
   "source": [
    "Пренебрегая действием внешних сил, мы можем записать по закону сохранения импульса:\n",
    "$$m v_0 = (M + m) V$$"
   ]
  },
  {
   "cell_type": "markdown",
   "metadata": {
    "deletable": true,
    "editable": true
   },
   "source": [
    "Так как масса маятника много больше массы пули, то можно считать $M + m \\approx M$ и записать:\n",
    "$$v_0 =  \\frac{M V}{m}$$"
   ]
  },
  {
   "cell_type": "markdown",
   "metadata": {
    "deletable": true,
    "editable": true
   },
   "source": [
    "Обозначим $\\varphi$ &mdash; максимальный угол отклонения маятника от оси колебаний. Тогда по закону сохранения энергии:\n",
    "$$MgL(1 - \\cos \\varphi) = \\frac{M V^2}{2}$$"
   ]
  },
  {
   "cell_type": "markdown",
   "metadata": {
    "deletable": true,
    "editable": true
   },
   "source": [
    "При малых $\\varphi$ можно считать, что $1 - \\cos \\varphi \\approx \\frac{\\varphi^2}{2}$.\n",
    "Обозначим амплитуду маятника за $\\Delta x$; тогда $\\Delta x \\approx L \\varphi \\Rightarrow \\varphi = \\frac{\\Delta x}{L}$."
   ]
  },
  {
   "cell_type": "markdown",
   "metadata": {
    "deletable": true,
    "editable": true
   },
   "source": [
    "Преобразовывая предыдущее равенство, получаем:\n",
    "$$gL\\frac{\\varphi^2}{2} = \\frac{V^2}{2} \\Rightarrow \\frac{\\Delta x^2}{L^2} = \\frac{V^2}{gL} \\Rightarrow V = \\Delta x \\sqrt{\\frac{g}{L}}$$"
   ]
  },
  {
   "cell_type": "markdown",
   "metadata": {
    "deletable": true,
    "editable": true
   },
   "source": [
    "## Задание"
   ]
  },
  {
   "cell_type": "markdown",
   "metadata": {
    "deletable": true,
    "editable": true
   },
   "source": [
    "### Результаты:"
   ]
  },
  {
   "cell_type": "code",
   "execution_count": 1,
   "metadata": {
    "collapsed": true,
    "deletable": true,
    "editable": true
   },
   "outputs": [],
   "source": [
    "import numpy as np\n",
    "import pandas as pd\n",
    "import math"
   ]
  },
  {
   "cell_type": "markdown",
   "metadata": {
    "deletable": true,
    "editable": true
   },
   "source": [
    "$n = 10$ <br>\n",
    "$L = 2.25$ м; $\\sigma(L) = 0.01$ м <br>\n",
    "$M = 2900$ г; $\\sigma(M) = 5$ г <br>\n",
    "$m_\\Sigma = 5205$ мг; $\\sigma(m_\\Sigma) = 1$ мг <br>\n",
    "$\\sigma(m_i) = 1$ мг <br>\n",
    "$\\sigma(x_0) = 0.4$ мм <br>\n",
    "$\\sigma(x) = 0.2$ мм <br>"
   ]
  },
  {
   "cell_type": "code",
   "execution_count": 2,
   "metadata": {
    "collapsed": false,
    "deletable": true,
    "editable": true
   },
   "outputs": [
    {
     "data": {
      "text/html": [
       "<div>\n",
       "<table border=\"1\" class=\"dataframe\">\n",
       "  <thead>\n",
       "    <tr style=\"text-align: right;\">\n",
       "      <th></th>\n",
       "      <th>0</th>\n",
       "      <th>1</th>\n",
       "      <th>2</th>\n",
       "      <th>3</th>\n",
       "      <th>4</th>\n",
       "      <th>5</th>\n",
       "      <th>6</th>\n",
       "      <th>7</th>\n",
       "      <th>8</th>\n",
       "      <th>9</th>\n",
       "    </tr>\n",
       "  </thead>\n",
       "  <tbody>\n",
       "    <tr>\n",
       "      <th>$m$, мг</th>\n",
       "      <td>527.0</td>\n",
       "      <td>519.0</td>\n",
       "      <td>516.0</td>\n",
       "      <td>522.0</td>\n",
       "      <td>523.0</td>\n",
       "      <td>522.0</td>\n",
       "      <td>516.0</td>\n",
       "      <td>515.0</td>\n",
       "      <td>531.0</td>\n",
       "      <td>515.0</td>\n",
       "    </tr>\n",
       "    <tr>\n",
       "      <th>$x_0$, мм</th>\n",
       "      <td>2.0</td>\n",
       "      <td>2.0</td>\n",
       "      <td>-1.0</td>\n",
       "      <td>-1.0</td>\n",
       "      <td>-1.7</td>\n",
       "      <td>-2.0</td>\n",
       "      <td>-2.0</td>\n",
       "      <td>-1.9</td>\n",
       "      <td>-2.0</td>\n",
       "      <td>-1.9</td>\n",
       "    </tr>\n",
       "    <tr>\n",
       "      <th>$x$, мм</th>\n",
       "      <td>-12.0</td>\n",
       "      <td>-11.0</td>\n",
       "      <td>11.2</td>\n",
       "      <td>11.8</td>\n",
       "      <td>11.5</td>\n",
       "      <td>12.0</td>\n",
       "      <td>12.0</td>\n",
       "      <td>12.1</td>\n",
       "      <td>12.0</td>\n",
       "      <td>11.7</td>\n",
       "    </tr>\n",
       "  </tbody>\n",
       "</table>\n",
       "</div>"
      ],
      "text/plain": [
       "               0      1      2      3      4      5      6      7      8  \\\n",
       "$m$, мг    527.0  519.0  516.0  522.0  523.0  522.0  516.0  515.0  531.0   \n",
       "$x_0$, мм    2.0    2.0   -1.0   -1.0   -1.7   -2.0   -2.0   -1.9   -2.0   \n",
       "$x$, мм    -12.0  -11.0   11.2   11.8   11.5   12.0   12.0   12.1   12.0   \n",
       "\n",
       "               9  \n",
       "$m$, мг    515.0  \n",
       "$x_0$, мм   -1.9  \n",
       "$x$, мм     11.7  "
      ]
     },
     "execution_count": 2,
     "metadata": {},
     "output_type": "execute_result"
    }
   ],
   "source": [
    "table_0 = pd.read_excel('measurements_1_1.xlsx', 0)\n",
    "table_0.transpose().head(len(table_0))"
   ]
  },
  {
   "cell_type": "markdown",
   "metadata": {
    "deletable": true,
    "editable": true
   },
   "source": [
    "### Обработка результатов:"
   ]
  },
  {
   "cell_type": "code",
   "execution_count": 3,
   "metadata": {
    "collapsed": false,
    "deletable": true,
    "editable": true
   },
   "outputs": [
    {
     "name": "stdout",
     "output_type": "stream",
     "text": [
      "520.6 5.161395160225576 1.7204650534085253\n"
     ]
    }
   ],
   "source": [
    "m = table_0.ix[:, 0].values\n",
    "m_err = 1\n",
    "\n",
    "m_mean = m.mean()\n",
    "m_var = math.sqrt(m.var())\n",
    "m_mean_err = math.sqrt(m.var() / (len(m) - 1))\n",
    "print(m_mean, m_var, m_mean_err)"
   ]
  },
  {
   "cell_type": "markdown",
   "metadata": {
    "deletable": true,
    "editable": true
   },
   "source": [
    "Среднее значение массы пулек: $m_{ср} = \\sqrt{\\frac{1}{n} \\sum_{i=1}^{n} m_i} = 520.6$ мг; <br>\n",
    "среднеквадратичное отклонение масс пулек от среднего значения: $\\sigma_{разбр}(m) = \\sqrt{\\frac{1}{n} \\sum_{i=1}^{n} (m_i - m_{ср})^2 } \\approx 5.2$ мг $\\gg \\sigma(m_i)$; <br>\n",
    "ошибка измерения среднего значения массы: $\\sigma(m_{ср}) = \\frac{\\sigma_{стд}(m)}{\\sqrt{n}} \\approx \\sqrt{\\frac{1}{n(n-1)} \\sum_{i=1}^{n} (m_i - m_{ср})^2 } = \\frac{\\sigma_{разбр}(m)}{\\sqrt{n - 1}} \\approx 1.7$ мг;"
   ]
  },
  {
   "cell_type": "code",
   "execution_count": 4,
   "metadata": {
    "collapsed": false,
    "deletable": true,
    "editable": true
   },
   "outputs": [
    {
     "name": "stdout",
     "output_type": "stream",
     "text": [
      "5206 3.1622776601683795\n"
     ]
    }
   ],
   "source": [
    "m_sigma = 5205\n",
    "m_sigma_err = 1\n",
    "\n",
    "m_sum = m.sum()\n",
    "err_m_sum = math.sqrt(len(m)) * m_err\n",
    "print(m_sum, err_m_sum)"
   ]
  },
  {
   "cell_type": "markdown",
   "metadata": {
    "deletable": true,
    "editable": true
   },
   "source": [
    "Обозначим: $m_{адд} := \\sum_{i=1}^n m_i$;<br>\n",
    "погрешность измерения суммарной массы всех пулек: $\\sigma(m_\\Sigma) = 1$ мг;<br>\n",
    "погрешность суммы отдельных измерений каждой пульки: $\\sigma(m_{адд}) = \\sqrt{\\sum_{i=1}^n \\sigma^2(m_i)} \\approx 3$ мг;<br>\n",
    "\n",
    "Таким образом:\n",
    "суммарная масса всех пулек &mdash; $5205 \\pm 1$ мг;<br>\n",
    "сумма отдельных измерений каждой пульки &mdash; $5206 \\pm 3$ мг. <br>\n",
    "А значит, в рамках точности эксперимента аддитивность масс пулек в наших опытах выполнялась."
   ]
  },
  {
   "cell_type": "code",
   "execution_count": 5,
   "metadata": {
    "collapsed": false,
    "deletable": true,
    "editable": true
   },
   "outputs": [],
   "source": [
    "M = 2900\n",
    "L = 2.25 \n",
    "g = 9.8\n",
    "m = 0.001 * table_0.ix[:, 0].values\n",
    "m_err *= 0.001\n",
    "x_0 = table_0.ix[:, 1].values * 0.001\n",
    "x = table_0.ix[:, 2].values * 0.001\n",
    "\n",
    "delta_x = abs(x - x_0)\n",
    "V = delta_x * math.sqrt(g / L)\n",
    "v_0 = M * V / m"
   ]
  },
  {
   "cell_type": "markdown",
   "metadata": {
    "deletable": true,
    "editable": true
   },
   "source": [
    "Получим формулу для оценки погрешности определения скорости пули в каждом выстреле.\n",
    "$\\newcommand\\diff[2]{\\left|\\frac{d{#1}}{d{#2}}\\right|^2}$"
   ]
  },
  {
   "cell_type": "markdown",
   "metadata": {
    "deletable": true,
    "editable": true
   },
   "source": [
    "$\\sigma(\\Delta x) = \\sqrt{\\sigma^2(x) + \\sigma^2(x_0)}$<br>\n",
    "$\\sigma(V) = \\sqrt{\\diff{V}{\\Delta x} \\sigma^2(\\Delta x) + \\diff{V}{L} \\sigma^2(L)} = \\sqrt{\\frac{g}{L} \\sigma^2(\\Delta x) + \\frac{4 g {\\Delta x}^2 }{L^3} \\sigma^2(L)}$<br>\n",
    "$\\sigma(v_0) = \\sqrt{\\diff{v_0}{M} \\sigma^2(M) + \\diff{v_0}{V} \\sigma^2(V) + \\diff{v_0}{m} \\sigma^2(m)} = \\sqrt{\\Big(\\frac{V}{m}\\Big)^2 \\sigma^2(M) + \\Big(\\frac{M}{m}\\Big)^2 \\sigma^2(V) + \\Big(\\frac{MV}{m^2}\\Big)^2 \\sigma^2(m)}$"
   ]
  },
  {
   "cell_type": "code",
   "execution_count": 6,
   "metadata": {
    "collapsed": false,
    "deletable": true,
    "editable": true
   },
   "outputs": [
    {
     "data": {
      "text/html": [
       "<div>\n",
       "<table border=\"1\" class=\"dataframe\">\n",
       "  <thead>\n",
       "    <tr style=\"text-align: right;\">\n",
       "      <th></th>\n",
       "      <th>0</th>\n",
       "      <th>1</th>\n",
       "      <th>2</th>\n",
       "      <th>3</th>\n",
       "      <th>4</th>\n",
       "      <th>5</th>\n",
       "      <th>6</th>\n",
       "      <th>7</th>\n",
       "      <th>8</th>\n",
       "      <th>9</th>\n",
       "    </tr>\n",
       "  </thead>\n",
       "  <tbody>\n",
       "    <tr>\n",
       "      <th>$m$, мг</th>\n",
       "      <td>527</td>\n",
       "      <td>519</td>\n",
       "      <td>516</td>\n",
       "      <td>522</td>\n",
       "      <td>523</td>\n",
       "      <td>522</td>\n",
       "      <td>516</td>\n",
       "      <td>515</td>\n",
       "      <td>531</td>\n",
       "      <td>515</td>\n",
       "    </tr>\n",
       "    <tr>\n",
       "      <th>$v_0$, м/c</th>\n",
       "      <td>160</td>\n",
       "      <td>151</td>\n",
       "      <td>143</td>\n",
       "      <td>148</td>\n",
       "      <td>152</td>\n",
       "      <td>162</td>\n",
       "      <td>164</td>\n",
       "      <td>164</td>\n",
       "      <td>159</td>\n",
       "      <td>159</td>\n",
       "    </tr>\n",
       "    <tr>\n",
       "      <th>$\\sigma(v_0)$, м/c</th>\n",
       "      <td>5</td>\n",
       "      <td>5</td>\n",
       "      <td>5</td>\n",
       "      <td>5</td>\n",
       "      <td>5</td>\n",
       "      <td>5</td>\n",
       "      <td>5</td>\n",
       "      <td>5</td>\n",
       "      <td>5</td>\n",
       "      <td>5</td>\n",
       "    </tr>\n",
       "  </tbody>\n",
       "</table>\n",
       "</div>"
      ],
      "text/plain": [
       "                      0    1    2    3    4    5    6    7    8    9\n",
       "$m$, мг             527  519  516  522  523  522  516  515  531  515\n",
       "$v_0$, м/c          160  151  143  148  152  162  164  164  159  159\n",
       "$\\sigma(v_0)$, м/c    5    5    5    5    5    5    5    5    5    5"
      ]
     },
     "execution_count": 6,
     "metadata": {},
     "output_type": "execute_result"
    }
   ],
   "source": [
    "M_err = 5\n",
    "L_err = 0.01\n",
    "x_0_err = 0.4 * 0.001\n",
    "x_err = 0.2 * 0.001\n",
    "\n",
    "delta_x_err = math.sqrt(x_err ** 2 + x_0_err ** 2) # мм\n",
    "V_err = np.sqrt(g * delta_x_err ** 2 / L + \\\n",
    "                  4 * g * (delta_x * L_err) ** 2 / (L ** 3))\n",
    "v_0_err = np.sqrt((V * M_err / m) ** 2 + \\\n",
    "                   (M * V_err / m) ** 2 + \\\n",
    "                   (M * V * m_err) ** 2 / m ** 4)\n",
    "\n",
    "data = list(zip(table_0.ix[:, 0].values, np.array(v_0, dtype=np.int64),\n",
    "                np.array(v_0_err, dtype=np.int64)))\n",
    "table_1 = pd.DataFrame(data=data,\n",
    "                       columns=['$m$, мг', '$v_0$, м/c', '$\\sigma(v_0)$, м/c'])\n",
    "table_1.transpose().head(len(table_1))"
   ]
  },
  {
   "cell_type": "code",
   "execution_count": 7,
   "metadata": {
    "collapsed": false,
    "deletable": true,
    "editable": true
   },
   "outputs": [
    {
     "name": "stdout",
     "output_type": "stream",
     "text": [
      "156.709790211 6.923525028039071\n"
     ]
    }
   ],
   "source": [
    "v_0_mean = v_0.mean()\n",
    "v_0_var = math.sqrt(v_0.var())\n",
    "print(v_0_mean, v_0_var)"
   ]
  },
  {
   "cell_type": "markdown",
   "metadata": {
    "deletable": true,
    "editable": true
   },
   "source": [
    "Значит:<br>\n",
    "среднее значение скорости пули: $v_0^{ср} = \\sqrt{\\frac{1}{n} \\sum_{i=1}^{n} v_0^i} \\approx 157$ м/с<br>\n",
    "разброс (среднеквадратичное отклонение) скорости пули относительно среднего значения: $\\sigma_{разбр} = \\sqrt{\\frac{1}{n} \\sum_{i=1}^{n} (v_0^i - v_0^{ср})^2 } \\approx 7$ м/с<br>\n",
    "Так как разброс скорости пули превышает погрешность при каждом из определений отдельной скорости, то, вероятно, скорости пуль от выстрела к выстрелу были различными."
   ]
  }
 ],
 "metadata": {
  "kernelspec": {
   "display_name": "Python 3",
   "language": "python",
   "name": "python3"
  },
  "language_info": {
   "codemirror_mode": {
    "name": "ipython",
    "version": 3
   },
   "file_extension": ".py",
   "mimetype": "text/x-python",
   "name": "python",
   "nbconvert_exporter": "python",
   "pygments_lexer": "ipython3",
   "version": "3.5.2"
  }
 },
 "nbformat": 4,
 "nbformat_minor": 2
}
