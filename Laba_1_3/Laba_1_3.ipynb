{
 "cells": [
  {
   "cell_type": "markdown",
   "metadata": {
    "deletable": true,
    "editable": true
   },
   "source": [
    "# Работа 1.3. Изучение колебаний на примере физического маятника."
   ]
  },
  {
   "cell_type": "markdown",
   "metadata": {
    "collapsed": true,
    "deletable": true,
    "editable": true
   },
   "source": [
    "<b>Цель работы:</b> исследовать физический и математический маятники как колебательные системы, измерить зависимость периода колебаний физического маятника от его момента инерции."
   ]
  },
  {
   "cell_type": "markdown",
   "metadata": {
    "deletable": true,
    "editable": true
   },
   "source": [
    "<b>В работе используются:</b> физический маятник (однородный стальной стержень), опорная призма, математический маятник, счётчик числа колебаний, линейка, секундомер."
   ]
  },
  {
   "cell_type": "markdown",
   "metadata": {
    "deletable": true,
    "editable": true
   },
   "source": [
    "# Теория"
   ]
  },
  {
   "cell_type": "markdown",
   "metadata": {
    "collapsed": true,
    "deletable": true,
    "editable": true
   },
   "source": [
    "Физический маятник &mdash; это твердое тело, подвешенное на неподвижной горизонтальной оси и совершающее колебательное движение под действием возвращающих сил. Пусть его длина от места подвеса до центра масс составляет $a$; угловая скорость &mdash; $\\omega$. Заметим, что $\\omega = {{d\\varphi}\\over{dt}} = \\dot{\\varphi}$. Так как маятник является твердым телом, то угловая скорость всех точек маятника одинакова в любой момент времени, поскольку расстояние между ними не меняется. Тогда скорость $i$-й точки определяется как $v_i = \\omega r_i$, где $r_i$ &mdash; расстояние от оси вращения до точки. Кинетическая энергия точки в этом случае определяется как $${{m_i \\cdot v_i^2}\\over{2}} = {{\\omega^2}\\over{2}} m_i \\cdot r_i^2.$$"
   ]
  },
  {
   "cell_type": "markdown",
   "metadata": {
    "deletable": true,
    "editable": true
   },
   "source": [
    "<p>Момент инерции &mdash; это величина, определяемая как $J = \\sum_i m_i r_i^2$, где суммирование проходит по числу рассматриваемых точек тела.</p>\n",
    "<p><b>Теорема Гюйгенса-Штайнера</b> гласит, что момент инерции относительно произвольной оси равен сумме момента инерции относительно оси, параллельной ей и проходящей через центр масс тела, и произведения массы тела на квадрат расстояния между осями.</p>\n",
    "<p><b>Доказательство:</b> Пусть $R_i$ &mdash; расстояние от рассматриваемой произвольной оси до $i$-й точки; $J$ &mdash; момент инерции относительно нее; r_i &mdash; расстояние от оси, параллельной рассматриваемой и проходящей через центр масс тела, до $i$-ой точки; $J_0$ &mdash; момент инерции относительно нее; $a$ &mdash; расстояние между осями; $M$ &mdash; масса тела, $m_i$ &mdash; масса $i$-ой точки. Тогда $R_i = a + r_i$, $\\sum_i m_i r_i = 0$, $J_0 = \\sum_i m_i r_i^2$ и</p>\n",
    "<p>$$J = \\sum_i m_i R_i^2 = \\sum_i m_i (a + r_i)^2 = \\sum_i m_i (a^2 + r_i^2 + 2 a r_i) = \\sum_i m_i (a^2 + r_i^2) = Ma^2 + J_0.$$</p>"
   ]
  },
  {
   "cell_type": "markdown",
   "metadata": {
    "deletable": true,
    "editable": true
   },
   "source": [
    "Найдем момент инерции $J_1$ относительно оси, проходящей через один из концов маятника. Пусть $M$ &mdash; масса стержня, $L$ &mdash; длина стержня, $\\rho = {{M}\\over{L}}$ &mdash; плотность стержня. Тогда $J_1$ равен\n",
    "$$\\int\\limits_0^L {{M}\\over{L}} x^2\\, \\mathrm{d}x = {{M}\\over{L}} \\cdot {{L^3}\\over{3}} = {{ML^2}\\over{3}}.$$\n",
    "Если $J_0$ &mdash; момент инерции относительно центра масс маятника, то, применяя теорему Гюйгенса-Штейнера, получаем, что $$J_1 = M \\Big({{L}\\over{2}}\\Big)^2 + J_0 \\;и\\; J_0 = {{ML^2}\\over{3}} - {{ML^2}\\over{4}} = {{ML^2}\\over{12}}$$."
   ]
  },
  {
   "cell_type": "markdown",
   "metadata": {
    "deletable": true,
    "editable": true
   },
   "source": [
    "Чтобы вывести уравнение движения, найдем полную энергию маятника $E$. Кинетическая энергия маятника равна\n",
    "$$\\sum_i {{m_i v_i^2}\\over{2}} = \\sum_i {{m_i \\omega^2 r_i^2}\\over{2}} = {{\\omega^2}\\over{2}} \\sum_i m_i r_i^2 = {{\\dot{\\varphi}^2}\\over{2}}J;$$\n",
    "<p>таким образом, полная энергия имеет вид</p>\n",
    "$$E = {{J \\dot{\\varphi}^2}\\over{2}} + Mg a (1 - \\cos\\varphi).$$"
   ]
  },
  {
   "cell_type": "markdown",
   "metadata": {
    "deletable": true,
    "editable": true
   },
   "source": [
    "Дифференцируя обе части равенства, получаем:\n",
    "$$J \\dot{\\varphi} \\ddot{\\varphi} + Mga \\sin{\\varphi} \\dot{\\varphi} = 0;$$\n",
    "$$\\ddot{\\varphi} + {{Mga}\\over{J}} \\sin{\\varphi} = 0.$$"
   ]
  },
  {
   "cell_type": "markdown",
   "metadata": {
    "deletable": true,
    "editable": true
   },
   "source": [
    "Если $\\omega_0$ &mdash; циклическая частота колебаний маятника, то\n",
    "$$\\omega_0^2 = {{Mga}\\over{J}}.$$\n",
    "Момент инерции на расстоянии $a$ от центра масс определяется как\n",
    "$$J_a = Ma^2 + {{ML^2}\\over{12}}.$$\n",
    "Тогда частота колебаний равна:\n",
    "$$\\omega^2 = {{Mga}\\over{Ma^2 + M{{L^2}\\over{12}}}} = {{ga}\\over{a^2 + {{L^2}\\over{12}}}};$$\n",
    "откуда период колебаний:\n",
    "$$T = {{2 \\pi}\\over{\\omega}} = 2 \\pi \\sqrt{{a^2 + {{L^2}\\over{12}}}\\over{ga}}.$$"
   ]
  },
  {
   "cell_type": "markdown",
   "metadata": {
    "deletable": true,
    "editable": true
   },
   "source": [
    "Если размер тела намного меньше длины (невесомого) подвеса, то такое тело можно считать точечной массой (материальной точкой), а маятник &mdash; <b>математическим</b>. В таком случае, $$J = Ma^2 \\; и \\; \\omega_0^2 = {{g}\\over{a}}.$$\n",
    "Если в процессе колебаний угол $\\varphi(t)$ всегда мал, то $\\sin \\varphi \\approx \\varphi$ и уравнение принимает вид $$\\ddot{\\varphi} + \\omega_0^2 \\varphi = 0.$$\n",
    "Считая амплитуду равной $A$, мы получаем решение данного уравнения:\n",
    "$$\\varphi(t) = A \\sin{(\\omega_0 t + \\alpha)}$$\n",
    "Можем разложить $\\sin \\varphi$ по Тейлору до второго члена $\\sin \\varphi \\approx \\varphi \\Big(1 - {{\\varphi^2}\\over{6}}\\Big)$. Тогда уравнение принимает вид:\n",
    "$$\\ddot{\\varphi} + \\omega_0^2 \\varphi \\Big(1 - {{\\varphi^2}\\over{6}}\\Big) = 0.$$\n",
    "Можно считать, что $\\omega_0$ зависит от $\\varphi$, тогда имеет место равенство:\n",
    "$$\\omega(\\varphi) \\approx \\omega_0 \\Big(1 - {{1}\\over{12}} \\varphi^2 \\Big)$$"
   ]
  },
  {
   "cell_type": "markdown",
   "metadata": {
    "deletable": true,
    "editable": true
   },
   "source": [
    "Предположим, что в системе имеет место потеря энергии за счет трения, причем такое, что амплитуда меняется по закону $A(t) = A_0 e^{-\\gamma t}$. Величина $\\gamma$ называется <b>коэффициентом затухания</b>. В таком случае, колебание маятника имеет вид\n",
    "$$\\varphi(t) = A_0 e^{-\\gamma t} \\sin (\\omega_0 t + \\alpha).$$\n",
    "Это является решением следующего дифференциального уравнения (при $\\gamma <\\omega_0$):\n",
    "$$\\ddot{\\varphi} + 2 \\gamma \\dot{\\varphi} + \\omega_0^2 \\varphi = 0.$$\n",
    "Обозначим частоту колебаний при затухании $\\omega$. Тогда $\\varphi(t) = \\varphi_0 e^{i \\omega t}.$ Подставляя колебания в уравнение, получаем:\n",
    "$$\\omega^2 - 2i \\gamma \\omega - \\omega_0^2 = 0,$$\n",
    "решением чего является:\n",
    "$$\\omega_{1, 2} = i \\gamma \\pm \\sqrt{\\omega_0^2 - \\gamma^2}.$$\n",
    "Важнейшей характеристикой затухающего осциллятора (т. е. колеблющейся системы), является отношение характерного времени затухания амплитуды в несколько раз к периоду колебаний. Чаще всего используется понятие <b>добротности</b>, определяемое как:\n",
    "$$Q = {{\\omega_0}\\over{2\\gamma}} = \\pi {{\\tau_e}\\over{T}},$$\n",
    "где $\\tau_e = {{1}\\over{\\gamma}}$ &mdash; время убывания амплитуды в $e$ раз."
   ]
  },
  {
   "cell_type": "markdown",
   "metadata": {
    "deletable": true,
    "editable": true
   },
   "source": [
    "# Задание"
   ]
  },
  {
   "cell_type": "code",
   "execution_count": 1,
   "metadata": {
    "collapsed": true,
    "deletable": true,
    "editable": true
   },
   "outputs": [],
   "source": [
    "import math\n",
    "import numpy as np\n",
    "import matplotlib.pyplot as plt\n",
    "import pandas as pd"
   ]
  },
  {
   "cell_type": "markdown",
   "metadata": {
    "deletable": true,
    "editable": true
   },
   "source": [
    "## Исследование зависимости периода колебаний от расстояния между точкой опоры и центром масс "
   ]
  },
  {
   "cell_type": "code",
   "execution_count": 2,
   "metadata": {
    "collapsed": false,
    "deletable": true,
    "editable": true
   },
   "outputs": [
    {
     "data": {
      "text/html": [
       "<div>\n",
       "<table border=\"1\" class=\"dataframe\">\n",
       "  <thead>\n",
       "    <tr style=\"text-align: right;\">\n",
       "      <th></th>\n",
       "      <th>L, м</th>\n",
       "      <th>t, с</th>\n",
       "      <th>n</th>\n",
       "      <th>T, с</th>\n",
       "      <th>a, м</th>\n",
       "      <th>T2a, м·с2</th>\n",
       "      <th>a2, м2</th>\n",
       "    </tr>\n",
       "  </thead>\n",
       "  <tbody>\n",
       "    <tr>\n",
       "      <th>0</th>\n",
       "      <td>0.55</td>\n",
       "      <td>25.66</td>\n",
       "      <td>10</td>\n",
       "      <td>2.566</td>\n",
       "      <td>0.05</td>\n",
       "      <td>0.329218</td>\n",
       "      <td>0.0025</td>\n",
       "    </tr>\n",
       "    <tr>\n",
       "      <th>1</th>\n",
       "      <td>0.57</td>\n",
       "      <td>22.00</td>\n",
       "      <td>10</td>\n",
       "      <td>2.200</td>\n",
       "      <td>0.07</td>\n",
       "      <td>0.338800</td>\n",
       "      <td>0.0049</td>\n",
       "    </tr>\n",
       "    <tr>\n",
       "      <th>2</th>\n",
       "      <td>0.60</td>\n",
       "      <td>17.16</td>\n",
       "      <td>10</td>\n",
       "      <td>1.716</td>\n",
       "      <td>0.10</td>\n",
       "      <td>0.294466</td>\n",
       "      <td>0.0100</td>\n",
       "    </tr>\n",
       "    <tr>\n",
       "      <th>3</th>\n",
       "      <td>0.64</td>\n",
       "      <td>16.97</td>\n",
       "      <td>10</td>\n",
       "      <td>1.697</td>\n",
       "      <td>0.14</td>\n",
       "      <td>0.403173</td>\n",
       "      <td>0.0196</td>\n",
       "    </tr>\n",
       "    <tr>\n",
       "      <th>4</th>\n",
       "      <td>0.71</td>\n",
       "      <td>15.25</td>\n",
       "      <td>10</td>\n",
       "      <td>1.525</td>\n",
       "      <td>0.21</td>\n",
       "      <td>0.488381</td>\n",
       "      <td>0.0441</td>\n",
       "    </tr>\n",
       "    <tr>\n",
       "      <th>5</th>\n",
       "      <td>0.75</td>\n",
       "      <td>15.12</td>\n",
       "      <td>10</td>\n",
       "      <td>1.512</td>\n",
       "      <td>0.25</td>\n",
       "      <td>0.571536</td>\n",
       "      <td>0.0625</td>\n",
       "    </tr>\n",
       "    <tr>\n",
       "      <th>6</th>\n",
       "      <td>0.79</td>\n",
       "      <td>14.82</td>\n",
       "      <td>10</td>\n",
       "      <td>1.482</td>\n",
       "      <td>0.29</td>\n",
       "      <td>0.636934</td>\n",
       "      <td>0.0841</td>\n",
       "    </tr>\n",
       "    <tr>\n",
       "      <th>7</th>\n",
       "      <td>0.85</td>\n",
       "      <td>15.16</td>\n",
       "      <td>10</td>\n",
       "      <td>1.516</td>\n",
       "      <td>0.35</td>\n",
       "      <td>0.804390</td>\n",
       "      <td>0.1225</td>\n",
       "    </tr>\n",
       "    <tr>\n",
       "      <th>8</th>\n",
       "      <td>0.90</td>\n",
       "      <td>15.32</td>\n",
       "      <td>10</td>\n",
       "      <td>1.532</td>\n",
       "      <td>0.40</td>\n",
       "      <td>0.938810</td>\n",
       "      <td>0.1600</td>\n",
       "    </tr>\n",
       "    <tr>\n",
       "      <th>9</th>\n",
       "      <td>0.95</td>\n",
       "      <td>15.90</td>\n",
       "      <td>10</td>\n",
       "      <td>1.590</td>\n",
       "      <td>0.45</td>\n",
       "      <td>1.137645</td>\n",
       "      <td>0.2025</td>\n",
       "    </tr>\n",
       "  </tbody>\n",
       "</table>\n",
       "</div>"
      ],
      "text/plain": [
       "   L, м   t, с   n   T, с  a, м  T2a, м·с2  a2, м2\n",
       "0  0.55  25.66  10  2.566  0.05   0.329218  0.0025\n",
       "1  0.57  22.00  10  2.200  0.07   0.338800  0.0049\n",
       "2  0.60  17.16  10  1.716  0.10   0.294466  0.0100\n",
       "3  0.64  16.97  10  1.697  0.14   0.403173  0.0196\n",
       "4  0.71  15.25  10  1.525  0.21   0.488381  0.0441\n",
       "5  0.75  15.12  10  1.512  0.25   0.571536  0.0625\n",
       "6  0.79  14.82  10  1.482  0.29   0.636934  0.0841\n",
       "7  0.85  15.16  10  1.516  0.35   0.804390  0.1225\n",
       "8  0.90  15.32  10  1.532  0.40   0.938810  0.1600\n",
       "9  0.95  15.90  10  1.590  0.45   1.137645  0.2025"
      ]
     },
     "execution_count": 2,
     "metadata": {},
     "output_type": "execute_result"
    }
   ],
   "source": [
    "table_0 = pd.read_excel('Laba_1_3.xlsx', 0)\n",
    "table_0.head(len(table_0))"
   ]
  },
  {
   "cell_type": "markdown",
   "metadata": {
    "deletable": true,
    "editable": true
   },
   "source": [
    "<b>Оценка погрешности:</b> $\\Delta L = \\Delta a = 0.005 м$, $\\Delta t = 0.5 с \\Rightarrow \\Delta T = 0.05 с$.\n",
    "Таким образом, $$\\Delta a^2 \\approx \\Big\\lvert {{da^2}\\over{da}} \\Big\\rvert \\Delta a = 2a \\Delta a ; \\Delta T^2 a \\approx \\Big\\lvert {{dT^2 a}\\over{da}} \\Big\\rvert \\Delta a + \\Big\\lvert {{dT^2 a}\\over{dT}} \\Big\\rvert \\Delta T = T^2 \\Delta a + 2 T a \\Delta T$$"
   ]
  },
  {
   "cell_type": "code",
   "execution_count": 3,
   "metadata": {
    "collapsed": false,
    "deletable": true,
    "editable": true
   },
   "outputs": [],
   "source": [
    "x = table_0.values[:, 6]\n",
    "y = table_0.values[:, 5]\n",
    "a = table_0.values[:, 4]\n",
    "t = table_0.values[:, 3]\n",
    "delta_a = 0.005\n",
    "delta_t = 0.05\n",
    "err_x = 2 * delta_a * a\n",
    "err_y = t * t * delta_a + 2 * t * a * delta_t\n",
    "k, b = np.polyfit(x, y, deg=1)\n",
    "k_1, b_1 = np.polyfit(x, y - err_y * np.linspace(1, -1, len(err_y)), deg=1)\n",
    "k_2, b_2 = np.polyfit(x, y + err_y * np.linspace(1, -1, len(err_y)), deg=1)"
   ]
  },
  {
   "cell_type": "code",
   "execution_count": 4,
   "metadata": {
    "collapsed": false,
    "deletable": true,
    "editable": true
   },
   "outputs": [
    {
     "data": {
      "image/png": "[encoded data removed]",
      "text/plain": [
       "<matplotlib.figure.Figure at 0x7f0af87c16d8>"
      ]
     },
     "metadata": {},
     "output_type": "display_data"
    }
   ],
   "source": [
    "plt.figure(figsize=(14, 8))\n",
    "plt.grid(linestyle='--')\n",
    "plt.title('Зависимость $T^2a$ от $a^2$', fontweight='bold', fontsize=16)\n",
    "plt.xlabel('$a^2, м^2$', fontsize=16)\n",
    "plt.ylabel('$T^2 a, м \\cdot с^2$', fontsize=16)\n",
    "plt.plot(x, b + x * k, color='dimgrey')\n",
    "plt.plot(x, b_1 + x * k_1, color='dimgrey', ls='--')\n",
    "plt.plot(x, b_2 + x * k_2, color='dimgrey', ls='--')\n",
    "plt.scatter(x, y, color='darkslategrey')\n",
    "plt.errorbar(x, y, xerr=err_x, yerr=err_y, ls ='none', color = 'deeppink')\n",
    "plt.show()"
   ]
  },
  {
   "cell_type": "markdown",
   "metadata": {
    "deletable": true,
    "editable": true
   },
   "source": [
    "Из формулы $$T = 2 \\pi \\sqrt{{a^2 + {{L^2}\\over{12}}}\\over{ga}}$$ можем получить зависимость $T^2 a$ от $a^2$:\n",
    "$$T^2 a = {{4\\pi^2}\\over{g}} \\cdot {{L^2}\\over{12}} + {{4\\pi^2}\\over{g}} \\cdot a^.2$$\n",
    "Зная $k$ и $b$, можем получить ${{g}\\over{4\\pi^2}}$ и ${{L^2}\\over{12}}$:\n",
    "$${{g}\\over{4\\pi^2}} = {{1}\\over{k}},  \\; {{L^2}\\over{12}} = {{b}\\over{k}}$$"
   ]
  },
  {
   "cell_type": "markdown",
   "metadata": {
    "deletable": true,
    "editable": true
   },
   "source": [
    "<b>Оценка погрешности</b>: \n",
    "$$\\Delta k = {{k_1 - k_2}\\over{2}}, \\Delta b = {{b_1 - b_2}\\over{2}}$$\n",
    "$$g = {{4\\pi^2}\\over{k}} \\Rightarrow \\Delta g \\approx \\Big\\lvert {{d{{4\\pi^2}\\over{k}}}\\over{dk}} \\Big\\rvert \\Delta k = {{4\\pi^2}\\over{k^2}}\\Delta k$$\n",
    "$$L = \\sqrt{{12b}\\over{k}} \\Rightarrow \\Delta L \\approx \\Big\\lvert {d\\sqrt{{12b}\\over{k}}\\over{db}} \\Big\\rvert \\Delta b + \\Big\\lvert {{d\\sqrt{{12b}\\over{k}}\\over{dk}}} \\Big\\rvert \\Delta k = \\sqrt{{3}\\over{kb}} \\Delta b + 3\\sqrt{{3b}\\over {k^3}} \\Delta k$$"
   ]
  },
  {
   "cell_type": "code",
   "execution_count": 5,
   "metadata": {
    "collapsed": false,
    "deletable": true,
    "editable": true
   },
   "outputs": [
    {
     "name": "stdout",
     "output_type": "stream",
     "text": [
      "9.7231851639 1.36206303556 0.9493756222656298 0.248815644455\n"
     ]
    }
   ],
   "source": [
    "delta_k = abs(k_1 - k_2) / 2\n",
    "delta_b = abs(b_1 - b_2) / 2\n",
    "g = 4 * pow(math.pi, 2) / k\n",
    "delta_g = 4 * pow(math.pi / k, 2) * delta_k \n",
    "L = math.sqrt(12 * b / k)\n",
    "delta_L = math.sqrt(3 / (k * b)) * delta_b + 3 * math.sqrt(3 * b / pow(k, 3)) * delta_k\n",
    "print(g, delta_g, L, delta_L)"
   ]
  },
  {
   "cell_type": "markdown",
   "metadata": {
    "deletable": true,
    "editable": true
   },
   "source": [
    "Итого $g = 9.72 \\pm 1.36 м / с^2$, $L = 0.95 \\pm 0.25 м$"
   ]
  },
  {
   "cell_type": "markdown",
   "metadata": {
    "collapsed": true,
    "deletable": true,
    "editable": true
   },
   "source": [
    "## Сравнение длины математического маятника с приведенной длиной физического маятника "
   ]
  },
  {
   "cell_type": "code",
   "execution_count": 6,
   "metadata": {
    "collapsed": false,
    "deletable": true,
    "editable": true
   },
   "outputs": [
    {
     "data": {
      "text/html": [
       "<div>\n",
       "<table border=\"1\" class=\"dataframe\">\n",
       "  <thead>\n",
       "    <tr style=\"text-align: right;\">\n",
       "      <th></th>\n",
       "      <th>L, м</th>\n",
       "      <th>t, с</th>\n",
       "      <th>n</th>\n",
       "      <th>T, с</th>\n",
       "    </tr>\n",
       "  </thead>\n",
       "  <tbody>\n",
       "    <tr>\n",
       "      <th>0</th>\n",
       "      <td>0.45</td>\n",
       "      <td>13.66</td>\n",
       "      <td>10</td>\n",
       "      <td>1.366</td>\n",
       "    </tr>\n",
       "    <tr>\n",
       "      <th>1</th>\n",
       "      <td>0.50</td>\n",
       "      <td>14.16</td>\n",
       "      <td>10</td>\n",
       "      <td>1.416</td>\n",
       "    </tr>\n",
       "    <tr>\n",
       "      <th>2</th>\n",
       "      <td>0.55</td>\n",
       "      <td>14.79</td>\n",
       "      <td>10</td>\n",
       "      <td>1.479</td>\n",
       "    </tr>\n",
       "    <tr>\n",
       "      <th>3</th>\n",
       "      <td>0.60</td>\n",
       "      <td>15.59</td>\n",
       "      <td>10</td>\n",
       "      <td>1.559</td>\n",
       "    </tr>\n",
       "    <tr>\n",
       "      <th>4</th>\n",
       "      <td>0.62</td>\n",
       "      <td>16.00</td>\n",
       "      <td>10</td>\n",
       "      <td>1.600</td>\n",
       "    </tr>\n",
       "    <tr>\n",
       "      <th>5</th>\n",
       "      <td>0.65</td>\n",
       "      <td>16.41</td>\n",
       "      <td>10</td>\n",
       "      <td>1.641</td>\n",
       "    </tr>\n",
       "    <tr>\n",
       "      <th>6</th>\n",
       "      <td>0.70</td>\n",
       "      <td>16.88</td>\n",
       "      <td>10</td>\n",
       "      <td>1.688</td>\n",
       "    </tr>\n",
       "    <tr>\n",
       "      <th>7</th>\n",
       "      <td>0.75</td>\n",
       "      <td>17.62</td>\n",
       "      <td>10</td>\n",
       "      <td>1.762</td>\n",
       "    </tr>\n",
       "  </tbody>\n",
       "</table>\n",
       "</div>"
      ],
      "text/plain": [
       "   L, м   t, с   n   T, с\n",
       "0  0.45  13.66  10  1.366\n",
       "1  0.50  14.16  10  1.416\n",
       "2  0.55  14.79  10  1.479\n",
       "3  0.60  15.59  10  1.559\n",
       "4  0.62  16.00  10  1.600\n",
       "5  0.65  16.41  10  1.641\n",
       "6  0.70  16.88  10  1.688\n",
       "7  0.75  17.62  10  1.762"
      ]
     },
     "execution_count": 6,
     "metadata": {},
     "output_type": "execute_result"
    }
   ],
   "source": [
    "table_1 = pd.read_excel('Laba_1_3.xlsx', 1)\n",
    "table_1.head(len(table_1))"
   ]
  },
  {
   "cell_type": "markdown",
   "metadata": {
    "deletable": true,
    "editable": true
   },
   "source": [
    "При $L = 0.62м$ достигается период колебаний математического маятника $T = 1.600 с$, который приблизительно равен $1.590 с$ &mdash; периоду колебаний физического маятника при $a = 0.45м$.\n",
    "Из формул $$T = 2 \\pi \\sqrt{{a^2 + {{L^2}\\over{12}}}\\over{ga}} = 2 \\pi \\sqrt{{L_{пр}}\\over{g}}$$ получаем $$L_{пр} = a + {{L^2}\\over{12a}}.$$\n",
    "Погрешность определяется как:\n",
    "$$\\Delta L_{пр} \\approx \\Big\\lvert{{d(a + {{L^2}\\over{12a}})}\\over{da}}\\Big\\rvert \\Delta a + \\Big\\lvert{{d(a + {{L^2}\\over{12a}})}\\over{dL}}\\Big\\rvert \\Delta L = (1 - {{L^2}\\over{12 a^2}})*\\Delta a + {{L}\\over{6a}} \\Delta L.$$"
   ]
  },
  {
   "cell_type": "code",
   "execution_count": 7,
   "metadata": {
    "collapsed": false,
    "deletable": true,
    "editable": true
   },
   "outputs": [
    {
     "name": "stdout",
     "output_type": "stream",
     "text": [
      "0.6171296296296296 0.11939300411522633\n"
     ]
    }
   ],
   "source": [
    "a = 0.45\n",
    "delta_a = 0.05\n",
    "L = 0.95\n",
    "delta_L = 0.25\n",
    "L_norm = a + pow(L, 2) / (12*a)\n",
    "delta_L_norm = (1 - pow(L / a, 2) / 12) * delta_a + L * delta_L / (6 * a)\n",
    "print(L_norm, delta_L_norm)"
   ]
  },
  {
   "cell_type": "markdown",
   "metadata": {
    "deletable": true,
    "editable": true
   },
   "source": [
    "Таким образом, $L_{пр} = 0.62 \\pm 0.12 м$."
   ]
  },
  {
   "cell_type": "markdown",
   "metadata": {
    "deletable": true,
    "editable": true
   },
   "source": [
    "## Оценка добротности физического и математического маятника"
   ]
  },
  {
   "cell_type": "markdown",
   "metadata": {
    "deletable": true,
    "editable": true
   },
   "source": [
    "<p>Определим коэффициент затухания из $A(t) = A_0 e^{-\\gamma t} \\Rightarrow \\gamma = {{1}\\over{t}} \\ln{{A_0}\\over{A(t)}} = {{\\ln{2}}\\over{t}}$. $Q = {{\\pi }\\over{\\gamma T}}.$</p> \n",
    "<p>Оценка погрешности: $\\Delta t =  0.5 с; \\Delta T = {{\\Delta t} \\over{n}};\n",
    "\\Delta \\gamma \\approx \\Big\\lvert {{d{{\\ln{2}}\\over{t}}}\\over{dt}} \\Big\\rvert \\Delta t \\approx {{\\ln 2}\\over{t^2}} \\Delta t;\n",
    "\\Delta \\omega \\approx \\Big\\lvert {{d{{2\\pi}\\over{T}}}\\over{dT}} \\Big\\rvert \\Delta T = {{2 \\pi}\\over{T^2}} \\Delta T $</p>\n",
    "$\\Delta Q \\approx \\Big\\lvert {{d{{\\pi}\\over{\\gamma T}}}\\over{d \\gamma}} \\Big\\rvert \\Delta \\gamma +  \\Big\\lvert {{d{{\\pi}\\over{\\gamma T}}}\\over{dT}} \\Big\\rvert \\Delta T = {{\\pi }\\over{\\gamma T}}({{\\Delta T}\\over{T}} + {{\\Delta \\gamma}\\over{\\gamma}}). $"
   ]
  },
  {
   "cell_type": "code",
   "execution_count": 8,
   "metadata": {
    "collapsed": false,
    "deletable": true,
    "editable": true
   },
   "outputs": [
    {
     "data": {
      "text/html": [
       "<div>\n",
       "<table border=\"1\" class=\"dataframe\">\n",
       "  <thead>\n",
       "    <tr style=\"text-align: right;\">\n",
       "      <th></th>\n",
       "      <th>Тип маятника</th>\n",
       "      <th>L, м</th>\n",
       "      <th>n</th>\n",
       "      <th>t, с</th>\n",
       "      <th>T, с</th>\n",
       "      <th>A нач., м</th>\n",
       "      <th>А кон., м</th>\n",
       "    </tr>\n",
       "  </thead>\n",
       "  <tbody>\n",
       "    <tr>\n",
       "      <th>0</th>\n",
       "      <td>P</td>\n",
       "      <td>0.97</td>\n",
       "      <td>205</td>\n",
       "      <td>332.22</td>\n",
       "      <td>1.620585</td>\n",
       "      <td>0.2</td>\n",
       "      <td>0.1</td>\n",
       "    </tr>\n",
       "    <tr>\n",
       "      <th>1</th>\n",
       "      <td>M</td>\n",
       "      <td>0.70</td>\n",
       "      <td>108</td>\n",
       "      <td>191.72</td>\n",
       "      <td>1.775185</td>\n",
       "      <td>0.4</td>\n",
       "      <td>0.2</td>\n",
       "    </tr>\n",
       "  </tbody>\n",
       "</table>\n",
       "</div>"
      ],
      "text/plain": [
       "  Тип маятника  L, м    n    t, с      T, с  A нач., м  А кон., м\n",
       "0            P  0.97  205  332.22  1.620585        0.2        0.1\n",
       "1            M  0.70  108  191.72  1.775185        0.4        0.2"
      ]
     },
     "execution_count": 8,
     "metadata": {},
     "output_type": "execute_result"
    }
   ],
   "source": [
    "table_2 = pd.read_excel('Laba_1_3.xlsx', 2)\n",
    "table_2.head(len(table_2))"
   ]
  },
  {
   "cell_type": "code",
   "execution_count": 9,
   "metadata": {
    "collapsed": false,
    "deletable": true,
    "editable": true
   },
   "outputs": [
    {
     "name": "stdout",
     "output_type": "stream",
     "text": [
      "[ 929.13382907  489.49489532] [ 2.79674261  2.55317596]\n",
      "[ 0.00208641  0.00361541] [  3.14010317e-06   9.42889121e-06]\n",
      "[ 3.87710851  3.53945344] [ 0.00583515  0.00923079]\n"
     ]
    }
   ],
   "source": [
    "n = table_2.values[:, 2].astype(np.float64)\n",
    "t = table_2.values[:, 3].astype(np.float64)\n",
    "t_per = table_2.values[:, 4].astype(np.float64)\n",
    "a_0 = table_2.values[:, 5].astype(np.float64)\n",
    "a_t = table_2.values[:, 6].astype(np.float64)\n",
    "gamma = np.log(a_0 / a_t) / t\n",
    "q = math.pi / (t_per * gamma)\n",
    "delta_t = 0.5\n",
    "delta_t_per = delta_t / n\n",
    "delta_gamma = math.log(2) * delta_t / (t * t)\n",
    "delta_q = math.pi * (delta_t_per / t_per + delta_gamma / gamma) / (t_per * gamma)\n",
    "omega = 2 * math.pi / t_per\n",
    "delta_omega = 2 * math.pi * delta_t_per / (t_per * t_per)\n",
    "print(q, delta_q)\n",
    "print(gamma, delta_gamma)\n",
    "print(omega, delta_omega)"
   ]
  },
  {
   "cell_type": "markdown",
   "metadata": {
    "deletable": true,
    "editable": true
   },
   "source": [
    "<p>Таким образом, $Q_{P} = 929.13 \\pm 2.80, Q_{M} = 489.49 \\pm 2.55$. </p>\n",
    "Т.к. $\\gamma << \\omega$, поскольку $\\gamma_{P} \\approx 0.002$, $\\gamma_{M} \\approx 0.004$, $\\omega_{P} = 3.877 \\pm 0.006 с^{-1}$, $\\omega_{M} = 3.539 \\pm 0.009 с^{-1}$ то приближение малого затухания применимо."
   ]
  },
  {
   "cell_type": "markdown",
   "metadata": {
    "deletable": true,
    "editable": true
   },
   "source": [
    "## Исследование зависимости частоты колебаний от расстояния между точкой опоры и центром масс"
   ]
  },
  {
   "cell_type": "markdown",
   "metadata": {
    "deletable": true,
    "editable": true
   },
   "source": [
    "Пусть $L_0 = {{L}\\over{2\\sqrt{3}}} \\approx 0.3 L$\n",
    "Тогда $\\omega^2 = {{ga}\\over{a^2 + L_0}} ={{g}\\over{2L_0}} \\cdot {{2x}\\over{1+x^2}}$, где $x = {{a}\\over{L_0}}$.\n",
    "<p>Обозначим $f(x) = {{2x}\\over{1+x^2}}$.</p>"
   ]
  },
  {
   "cell_type": "code",
   "execution_count": 10,
   "metadata": {
    "collapsed": true,
    "deletable": true,
    "editable": true
   },
   "outputs": [],
   "source": [
    "L = 1\n",
    "L_0 = 0.3 * L\n",
    "a = table_0.values[:, 4]\n",
    "x = a / L_0\n",
    "f_x = 2 * x / (np.full(len(x), 1) + x * x)"
   ]
  },
  {
   "cell_type": "code",
   "execution_count": 11,
   "metadata": {
    "collapsed": false,
    "deletable": true,
    "editable": true
   },
   "outputs": [
    {
     "data": {
      "image/png": "[encoded data removed]",
      "text/plain": [
       "<matplotlib.figure.Figure at 0x7f0af64757f0>"
      ]
     },
     "metadata": {},
     "output_type": "display_data"
    }
   ],
   "source": [
    "plt.figure(figsize=(14, 8))\n",
    "plt.grid(linestyle='--')\n",
    "plt.title('Зависимость $f(x)$ от $x$', fontweight='bold', fontsize=16)\n",
    "plt.xlabel('$x$', fontsize=16)\n",
    "plt.ylabel('$f(x)$', fontsize=16)\n",
    "plt.plot(x, f_x, color='dimgrey')\n",
    "plt.scatter(x, f_x, color='darkslategrey')\n",
    "plt.show()"
   ]
  },
  {
   "cell_type": "markdown",
   "metadata": {
    "deletable": true,
    "editable": true
   },
   "source": [
    "При $x = 1$, т.е. $a = L_0$ достигается максимум $f(x)$, а значит, и $\\omega$."
   ]
  }
 ],
 "metadata": {
  "kernelspec": {
   "display_name": "Python 3",
   "language": "python",
   "name": "python3"
  },
  "language_info": {
   "codemirror_mode": {
    "name": "ipython",
    "version": 3
   },
   "file_extension": ".py",
   "mimetype": "text/x-python",
   "name": "python",
   "nbconvert_exporter": "python",
   "pygments_lexer": "ipython3",
   "version": "3.5.2"
  }
 },
 "nbformat": 4,
 "nbformat_minor": 2
}
