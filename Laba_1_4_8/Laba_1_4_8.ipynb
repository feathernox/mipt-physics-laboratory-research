{
 "cells": [
  {
   "cell_type": "markdown",
   "metadata": {
    "deletable": true,
    "editable": true
   },
   "source": [
    "# Работа 1.4.8. Измерение модуля Юнга методом акустического резонанса."
   ]
  },
  {
   "cell_type": "markdown",
   "metadata": {
    "deletable": true,
    "editable": true
   },
   "source": [
    "**Цель работы:** исследование явления акустического резонанса. Измерение скорости распространения продольных колебаний в тонких стержнях. Измерение модуля Юнга различных материалов.\n",
    "\n",
    "**В работе используются:** генератор звуковых частот, частотомер, осциллограф, электромагнитные излучатель и приемник\n",
    "колебаний, набор стержней из различных материалов (стали, алюминия, меди). "
   ]
  },
  {
   "cell_type": "markdown",
   "metadata": {
    "deletable": true,
    "editable": true
   },
   "source": [
    "$\\newcommand\\diff[2]{\\left|\\frac{d{#1}}{d{#2}}\\right|^2}$\n",
    "$\\newcommand\\err[1]{\\sigma^2_{#1}}$\n",
    "$\\newcommand\\ferr[2]{\\diff{#1}{#2} \\err{#2}}$"
   ]
  },
  {
   "cell_type": "code",
   "execution_count": 2,
   "metadata": {
    "collapsed": true,
    "deletable": true,
    "editable": true
   },
   "outputs": [],
   "source": [
    "import numpy as np\n",
    "import pandas as pd\n",
    "import matplotlib.pyplot as plt"
   ]
  },
  {
   "cell_type": "code",
   "execution_count": 3,
   "metadata": {
    "collapsed": false,
    "deletable": true,
    "editable": true
   },
   "outputs": [
    {
     "data": {
      "text/html": [
       "<div>\n",
       "<table border=\"1\" class=\"dataframe\">\n",
       "  <thead>\n",
       "    <tr style=\"text-align: right;\">\n",
       "      <th></th>\n",
       "      <th>$E_{табл}$, Гпа</th>\n",
       "      <th>$m$, г</th>\n",
       "      <th>$D$, см</th>\n",
       "      <th>$l$, см</th>\n",
       "      <th>$L$, см</th>\n",
       "      <th>$f_1$, кГц</th>\n",
       "      <th>$f_3$, кГц</th>\n",
       "    </tr>\n",
       "  </thead>\n",
       "  <tbody>\n",
       "    <tr>\n",
       "      <th>Медь</th>\n",
       "      <td>110</td>\n",
       "      <td>40.416</td>\n",
       "      <td>1.20</td>\n",
       "      <td>4.05</td>\n",
       "      <td>60</td>\n",
       "      <td>3.242</td>\n",
       "      <td>9.658</td>\n",
       "    </tr>\n",
       "    <tr>\n",
       "      <th>Дюраль</th>\n",
       "      <td>74</td>\n",
       "      <td>9.267</td>\n",
       "      <td>1.15</td>\n",
       "      <td>3.05</td>\n",
       "      <td>60</td>\n",
       "      <td>4.322</td>\n",
       "      <td>12.705</td>\n",
       "    </tr>\n",
       "    <tr>\n",
       "      <th>Сталь</th>\n",
       "      <td>200</td>\n",
       "      <td>28.126</td>\n",
       "      <td>1.25</td>\n",
       "      <td>3.10</td>\n",
       "      <td>60</td>\n",
       "      <td>4.202</td>\n",
       "      <td>12.870</td>\n",
       "    </tr>\n",
       "  </tbody>\n",
       "</table>\n",
       "</div>"
      ],
      "text/plain": [
       "        $E_{табл}$, Гпа  $m$, г  $D$, см  $l$, см  $L$, см  $f_1$, кГц  \\\n",
       "Медь                110  40.416     1.20     4.05       60       3.242   \n",
       "Дюраль               74   9.267     1.15     3.05       60       4.322   \n",
       "Сталь               200  28.126     1.25     3.10       60       4.202   \n",
       "\n",
       "        $f_3$, кГц  \n",
       "Медь         9.658  \n",
       "Дюраль      12.705  \n",
       "Сталь       12.870  "
      ]
     },
     "execution_count": 3,
     "metadata": {},
     "output_type": "execute_result"
    }
   ],
   "source": [
    "table_0 = pd.read_excel('Laba_1_4_8.xlsx', 0)\n",
    "table_0.head(len(table_0))"
   ]
  },
  {
   "cell_type": "code",
   "execution_count": 4,
   "metadata": {
    "collapsed": false,
    "deletable": true,
    "editable": true
   },
   "outputs": [],
   "source": [
    "x = np.array([1, 3])\n",
    "y = np.vstack((table_0.ix[:, 5].values, table_0.ix[:, 6].values)).T\n",
    "\n",
    "leng = len(table_0)\n",
    "a, b = np.zeros(leng), np.zeros(leng)\n",
    "for i in range(leng):\n",
    "    a[i], b[i] = np.polyfit(x, y[i], deg=1)"
   ]
  },
  {
   "cell_type": "code",
   "execution_count": 5,
   "metadata": {
    "collapsed": false,
    "deletable": true,
    "editable": true
   },
   "outputs": [
    {
     "data": {
      "image/png": "[encoded data removed]",
      "text/plain": [
       "<matplotlib.figure.Figure at 0x7f6e77b5c9b0>"
      ]
     },
     "metadata": {},
     "output_type": "display_data"
    }
   ],
   "source": [
    "labels = ['Медь', 'Дюраль', 'Сталь']\n",
    "colors = ['red', 'green', 'blue']\n",
    "plt.figure(figsize=(8, 8))\n",
    "plt.grid(linestyle='--')\n",
    "plt.title('Зависимость $f(n)$ от $n$', fontweight='bold', fontsize=16)\n",
    "plt.xlabel('$n$', fontsize=16)\n",
    "plt.ylabel('$f(n), кГц$', fontsize=16)\n",
    "for i in range(leng):\n",
    "    plt.plot(x, b[i] + x * a[i], label=labels[i], color=colors[i])\n",
    "    plt.scatter(x, y[i], color=colors[i])\n",
    "plt.legend(fontsize=16)\n",
    "plt.show()"
   ]
  },
  {
   "cell_type": "markdown",
   "metadata": {
    "deletable": true,
    "editable": true
   },
   "source": [
    "$f(n) = \\frac{f_n}{n}$;\n",
    "\n",
    "$\\sigma_{f(n)} = 0.001 кГц$, $\\sigma_{L} = 0.05 см$\n",
    "\n",
    "$\\sigma_{f(n)} = \\frac{\\sigma_{f_n}}{n}$; $\\sigma_{f} = \\sqrt{\\err{f_1} + \\err{f_3}}$"
   ]
  },
  {
   "cell_type": "code",
   "execution_count": 6,
   "metadata": {
    "collapsed": false,
    "deletable": true,
    "editable": true
   },
   "outputs": [],
   "source": [
    "def frequency(f, n):\n",
    "    return np.mean(f / n, axis=1)\n",
    "\n",
    "def frequency_err(f, n, f_err):\n",
    "    return np.sqrt(np.sum((f_err * np.ones(2) / n) ** 2) / (len(n) - 1))\n",
    "\n",
    "n = np.array([1, 3])\n",
    "f = np.vstack((table_0.ix[:, 5].values, table_0.ix[:, 6].values)).T * 1000\n",
    "f_err = 1\n",
    "\n",
    "fr = frequency(f, n)\n",
    "fr_err = frequency_err(f, n, f_err) * np.ones(leng)"
   ]
  },
  {
   "cell_type": "markdown",
   "metadata": {
    "deletable": true,
    "editable": true
   },
   "source": [
    "$c_{cт} = 2Lf \\approx 2 L \\frac{f(1) + f(3)}{2}$;\n",
    "\n",
    "$\\sigma_{c_{ст}} = 2 \\sqrt{\\ferr{c_{ст}}{L} + \\ferr{c_{cт}}{f}} = 2 \\sqrt{f^2 \\err{L} + L^2 \\err{f}} $"
   ]
  },
  {
   "cell_type": "code",
   "execution_count": 7,
   "metadata": {
    "collapsed": false,
    "deletable": true,
    "editable": true
   },
   "outputs": [],
   "source": [
    "def speed_sound(fr, L):\n",
    "    return 2 * L * fr\n",
    "\n",
    "def speed_sound_err(fr, L, fr_err, L_err):\n",
    "    \n",
    "    return 2 * np.sqrt((fr_err * L) ** 2 + (fr * L_err) ** 2)\n",
    "\n",
    "L = 0.6\n",
    "L_err = 0.005\n",
    "\n",
    "ss = speed_sound(fr, L)\n",
    "ss_err = speed_sound_err(fr, L, fr_err, L_err)"
   ]
  },
  {
   "cell_type": "markdown",
   "metadata": {
    "deletable": true,
    "editable": true
   },
   "source": [
    "$\\sigma_m = 0.001 г$; $\\sigma_D = 0.05 см$; $\\sigma_l = 0.05 см$\n",
    "\n",
    "$\\rho = \\frac{m}{\\pi \\left(\\frac{D}{2}\\right)^2 l}$\n",
    "\n",
    "$\\sigma_\\rho = \\sqrt{\\ferr{\\rho}{m} + \\ferr{\\rho}{l} + \\ferr{\\rho}{D}} = \\sqrt{\\left(\\frac{4}{\\pi D^2 l}\\right)^2 \\err{m} + \\left(\\frac{4m}{\\pi D^2 l^2}\\right)^2 \\err{l} + \\left(\\frac{8m}{\\pi D^3 l}\\right)^2 \\err{D}}$"
   ]
  },
  {
   "cell_type": "code",
   "execution_count": 8,
   "metadata": {
    "collapsed": false,
    "deletable": true,
    "editable": true
   },
   "outputs": [],
   "source": [
    "def density(m, D, l):\n",
    "    return 4 * m / (np.pi * D ** 2 * l)\n",
    "\n",
    "def density_err(m, D, l, m_err, D_err, l_err):\n",
    "    return 4 / (np.pi * D ** 2 * l) * np.sqrt(m_err ** 2 + \\\n",
    "                                              (l_err * m / l) ** 2 + (2 * D_err * m / D) ** 2)\n",
    "\n",
    "m = table_0.ix[:, 1].values * 0.001\n",
    "m_err = 0.001 * 0.001\n",
    "D = table_0.ix[:, 2].values * 0.01\n",
    "D_err = 0.05 * 0.01\n",
    "l = table_0.ix[:, 3].values * 0.01\n",
    "l_err = 0.05 * 0.01\n",
    "\n",
    "rho = density(m, D, l)\n",
    "rho_err = density_err(m, D, l, m_err, D_err, l_err)"
   ]
  },
  {
   "cell_type": "markdown",
   "metadata": {
    "deletable": true,
    "editable": true
   },
   "source": [
    "$E = {c_{ст}}^2 \\rho$\n",
    "\n",
    "$\\sigma_E = \\sqrt{\\ferr{E}{c_{ст}} + \\ferr{E}{\\rho}} = \\sqrt{(2 c_{ст} \\rho)^2 \\err{c_{ст}} + {c_{ст}}^4 \\err{\\rho}}$"
   ]
  },
  {
   "cell_type": "code",
   "execution_count": 9,
   "metadata": {
    "collapsed": false,
    "deletable": true,
    "editable": true
   },
   "outputs": [],
   "source": [
    "def elastic_mod(ss, rho):\n",
    "    return ss ** 2 * rho\n",
    "\n",
    "def elastic_mod_err(ss, rho, ss_err, rho_err):\n",
    "    return np.sqrt((2 * ss * rho * ss_err) ** 2 + (ss ** 2 * rho_err) ** 2)\n",
    "\n",
    "em = elastic_mod(ss, rho) / 10 ** 9\n",
    "em_err = elastic_mod_err(ss, rho, ss_err, rho_err) / 10 ** 9"
   ]
  },
  {
   "cell_type": "code",
   "execution_count": 10,
   "metadata": {
    "collapsed": false,
    "deletable": true,
    "editable": true
   },
   "outputs": [
    {
     "data": {
      "text/html": [
       "<div>\n",
       "<table border=\"1\" class=\"dataframe\">\n",
       "  <thead>\n",
       "    <tr style=\"text-align: right;\">\n",
       "      <th></th>\n",
       "      <th>$f$, кГц</th>\n",
       "      <th>$\\sigma_f$, кГц</th>\n",
       "      <th>$c_{ст}$, м/c</th>\n",
       "      <th>$\\sigma_{c_{ст}}$, м/c</th>\n",
       "      <th>$\\rho$, кг/м^3</th>\n",
       "      <th>$\\sigma_{\\rho}$, кг/м^3</th>\n",
       "      <th>$E$, гПа</th>\n",
       "      <th>$\\sigma_E$, гПа</th>\n",
       "    </tr>\n",
       "  </thead>\n",
       "  <tbody>\n",
       "    <tr>\n",
       "      <th>Медь</th>\n",
       "      <td>3.231</td>\n",
       "      <td>0.001</td>\n",
       "      <td>3880.0</td>\n",
       "      <td>30.0</td>\n",
       "      <td>8800.0</td>\n",
       "      <td>700.0</td>\n",
       "      <td>130.0</td>\n",
       "      <td>10.0</td>\n",
       "    </tr>\n",
       "    <tr>\n",
       "      <th>Дюраль</th>\n",
       "      <td>4.278</td>\n",
       "      <td>0.001</td>\n",
       "      <td>5130.0</td>\n",
       "      <td>40.0</td>\n",
       "      <td>2900.0</td>\n",
       "      <td>300.0</td>\n",
       "      <td>80.0</td>\n",
       "      <td>10.0</td>\n",
       "    </tr>\n",
       "    <tr>\n",
       "      <th>Сталь</th>\n",
       "      <td>4.246</td>\n",
       "      <td>0.001</td>\n",
       "      <td>5100.0</td>\n",
       "      <td>40.0</td>\n",
       "      <td>7400.0</td>\n",
       "      <td>600.0</td>\n",
       "      <td>190.0</td>\n",
       "      <td>20.0</td>\n",
       "    </tr>\n",
       "  </tbody>\n",
       "</table>\n",
       "</div>"
      ],
      "text/plain": [
       "        $f$, кГц  $\\sigma_f$, кГц  $c_{ст}$, м/c  $\\sigma_{c_{ст}}$, м/c  \\\n",
       "Медь       3.231            0.001         3880.0                    30.0   \n",
       "Дюраль     4.278            0.001         5130.0                    40.0   \n",
       "Сталь      4.246            0.001         5100.0                    40.0   \n",
       "\n",
       "        $\\rho$, кг/м^3  $\\sigma_{\\rho}$, кг/м^3  $E$, гПа  $\\sigma_E$, гПа  \n",
       "Медь            8800.0                    700.0     130.0             10.0  \n",
       "Дюраль          2900.0                    300.0      80.0             10.0  \n",
       "Сталь           7400.0                    600.0     190.0             20.0  "
      ]
     },
     "execution_count": 10,
     "metadata": {},
     "output_type": "execute_result"
    }
   ],
   "source": [
    "data = list(zip((fr * 0.001).round(3), (fr_err * 0.001).round(3),\n",
    "                ss.round(-1), ss_err.round(-1),\n",
    "                rho.round(-2), rho_err.round(-2),\n",
    "                em.round(-1), em_err.round(-1)))\n",
    "table_1 = pd.DataFrame(index=['Медь', 'Дюраль', 'Сталь'],\n",
    "                       data=data,\n",
    "                       columns=['$f$, кГц', '$\\sigma_f$, кГц',\n",
    "                                '$c_{ст}$, м/c', '$\\sigma_{c_{ст}}$, м/c',\n",
    "                                '$\\\\rho$, кг/м^3', '$\\sigma_{\\\\rho}$, кг/м^3',\n",
    "                                '$E$, гПа', '$\\sigma_E$, гПа'])\n",
    "table_1.head(len(table_1))"
   ]
  },
  {
   "cell_type": "markdown",
   "metadata": {
    "deletable": true,
    "editable": true
   },
   "source": [
    "Для дюраля: $f_1 = 4.322 \\pm 0.001 кГц$, $f'_1 = 4.330 \\pm 0.001 кГц$.\n",
    "\n",
    "Добротность: $Q = \\frac{f_1}{\\Delta f_1} = \\frac{f_1}{\\left|f'_1 - f_1\\right|}$\n",
    "\n",
    "$\\sigma_Q = \\sqrt{\\ferr{Q}{f_1} + \\ferr{Q}{f'_1}} = \\sqrt{\\frac{f_1'^2 \\err{f} + f^2 \\err{f_1}}{(f_1 - f'_1)^4}}$"
   ]
  },
  {
   "cell_type": "code",
   "execution_count": 11,
   "metadata": {
    "collapsed": false,
    "deletable": true,
    "editable": true
   },
   "outputs": [
    {
     "name": "stdout",
     "output_type": "stream",
     "text": [
      "$Q = 5e+02, \\sigma_Q = 1e+02$\n"
     ]
    }
   ],
   "source": [
    "def quality(f, f_e):\n",
    "    return f / abs (f - f_e)\n",
    "\n",
    "def quality_err(f, f_e, f_err, f_e_err):\n",
    "    return np.sqrt(((f_e * f_err) ** 2 + (f * f_e_err) ** 2) / (f - f_e) ** 4)\n",
    "\n",
    "f_1, f_1_err = 4.322, 0.001\n",
    "f_1_e, f_1_e_err = 4.330, 0.001\n",
    "\n",
    "print('$Q = {:.1}, \\sigma_Q = {:.1}$'.format(quality(f_1, f_1_e),\n",
    "                                       quality_err(f_1, f_1_e, f_1_err, f_1_e_err)))"
   ]
  },
  {
   "cell_type": "markdown",
   "metadata": {
    "deletable": true,
    "editable": true
   },
   "source": [
    "Значит, $Q \\sim 500-700$."
   ]
  }
 ],
 "metadata": {
  "kernelspec": {
   "display_name": "Python 3",
   "language": "python",
   "name": "python3"
  },
  "language_info": {
   "codemirror_mode": {
    "name": "ipython",
    "version": 3
   },
   "file_extension": ".py",
   "mimetype": "text/x-python",
   "name": "python",
   "nbconvert_exporter": "python",
   "pygments_lexer": "ipython3",
   "version": "3.5.2"
  }
 },
 "nbformat": 4,
 "nbformat_minor": 2
}
