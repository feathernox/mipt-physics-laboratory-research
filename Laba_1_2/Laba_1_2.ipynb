{
 "cells": [
  {
   "cell_type": "markdown",
   "metadata": {
    "collapsed": true,
    "deletable": true,
    "editable": true
   },
   "source": [
    "# Работа 1.2. Определение моментов инерции твёрдых тел с помощью трифилярного подвеса"
   ]
  },
  {
   "cell_type": "markdown",
   "metadata": {
    "deletable": true,
    "editable": true
   },
   "source": [
    "**Цель работы:** измерение момента инерции ряда тел и сравнение результатов с расчётами по теоретическим формулам; проверка аддитивности моментов инерции и справедливости формулы Гюйгенса–Штейнера."
   ]
  },
  {
   "cell_type": "markdown",
   "metadata": {
    "deletable": true,
    "editable": true
   },
   "source": [
    "**В работе используются:** трифилярный подвес, секундомер, счётчик числа колебаний, набор тел, момент инерции которых надлежит измерить (диск, стержень, полый цилиндр и другие)."
   ]
  },
  {
   "cell_type": "markdown",
   "metadata": {
    "deletable": true,
    "editable": true
   },
   "source": [
    "## Теория"
   ]
  },
  {
   "cell_type": "markdown",
   "metadata": {
    "deletable": true,
    "editable": true
   },
   "source": [
    "Обозначим:\n",
    "\n",
    "- $z_0$ &mdash; расстояние между центрами платформ трифилярного подвеса;\n",
    "- $L$ &mdash; длина нитей трифилярного подвеса;\n",
    "- $R$ &mdash; радиус нижней платформы трифилярного подвеса;\n",
    "- $r$ &mdash; радиус верхней платформы трифилярного подвеса."
   ]
  },
  {
   "cell_type": "markdown",
   "metadata": {
    "deletable": true,
    "editable": true
   },
   "source": [
    "По теореме Пифагора: $z_0^2 = L^2 - (R - r) ^ 2$."
   ]
  },
  {
   "cell_type": "markdown",
   "metadata": {
    "deletable": true,
    "editable": true
   },
   "source": [
    "Пусть нижняя платформа повернута относительно верхней на угол $\\varphi$. Обозначим за $h$ изменение расстояния между платформами после поворота. Используя теорему Пифагора и теорему косинусов, можем получить, что $(z_0-h)^2 = L^2 - (R^2 + r^2 - 2 R r \\cos{\\varphi})$.\n",
    "Вычитая одно равенство из другого и считая $\\varphi$ и $h$ достаточно малыми, получаем, что $2 z_0 h = 2 R r (1 - \\cos{\\varphi}) \\Rightarrow h = \\frac{Rr}{z_0} \\cdot \\frac{\\varphi^2}{2}$. "
   ]
  },
  {
   "cell_type": "markdown",
   "metadata": {
    "deletable": true,
    "editable": true
   },
   "source": [
    "Обозначим:\n",
    "\n",
    "- $M_0$ &mdash; масса платформы;\n",
    "- $J_0$ &mdash; момент инерции платформы относительно оси вращения;\n",
    "- $M$ &mdash; масса тела;\n",
    "- $J$ &mdash; момент инерции тела относительно оси вращения;\n",
    "- $K$ &mdash; их кинетическая энергия.\n",
    "\n",
    "Тогда, аналогично расчетам в работе 1.3, $K = \\frac{J_0 (\\dot{\\varphi})^2}{2}$. Из ее равенства потенциальной энергии мы получаем уравнение гармонических колебаний: $\\ddot{\\varphi} + \\omega_0^2 \\sin \\varphi = 0$.\n",
    "\n",
    "В случае, если платформа пустая, $J_0 = \\int_0^R 2\\pi x \\; dx \\frac{M_0}{\\pi R^2} x^2 = \\frac{2M_0}{R^2} \\int_0^R x^3 \\; dx = \\frac{M_0 R^2}{2}$, откуда $\\omega_0^2 = \\frac{M_0 g\\frac{Rr}{z_0}}{J} = \\frac{M_0 gRr}{z_0 J} = \\frac{2gr}{z_0 R}$."
   ]
  },
  {
   "cell_type": "markdown",
   "metadata": {
    "deletable": true,
    "editable": true
   },
   "source": [
    "Если платформа не пустая, то $\\omega^2 = \\Big(\\frac{2\\pi}{T} \\Big)^2 = \\frac{(M_0 + M) g R r}{z_0 (J_0 + J)} \\Rightarrow \\Big(\\frac{T}{2\\pi}\\Big)^2 = \\frac{J_0 + J}{M_0 + M} \\cdot \\frac{gRr}{z_0} \\Rightarrow \\Big(\\frac{T}{T_0} \\Big)^2 = \\frac{1 + \\frac{J}{J_0}}{1 + \\frac{M}{M_0}} \\cdot \\frac{J_0}{M_0} = \\frac{1 + \\frac{J}{J_0}}{1 + \\frac{M}{M_0}} \\cdot \\frac{R^2}{2}$.\n",
    "\n",
    "Заметим, что $J_0 + J = \\frac{gRr}{4 \\pi^2 z_0} (M_0 + M) T^2 = k (M_0 + M) T^2$, где $k = \\frac{gRr}{4 \\pi^2 z_0}$ &mdash; константа для данной установки."
   ]
  },
  {
   "cell_type": "markdown",
   "metadata": {
    "deletable": true,
    "editable": true
   },
   "source": [
    "## Практика \n",
    "$\\newcommand\\diff[2]{\\left|\\frac{d{#1}}{d{#2}}\\right|^2}$\n",
    "$\\newcommand\\err[1]{\\sigma^2_{#1}}$\n",
    "$\\newcommand\\ferr[2]{\\diff{#1}{#2} \\err{#2}}$"
   ]
  },
  {
   "cell_type": "code",
   "execution_count": 32,
   "metadata": {
    "collapsed": true,
    "deletable": true,
    "editable": true
   },
   "outputs": [],
   "source": [
    "import math\n",
    "import numpy as np\n",
    "import pandas as pd\n",
    "import matplotlib.pyplot as plt"
   ]
  },
  {
   "cell_type": "markdown",
   "metadata": {
    "deletable": true,
    "editable": true
   },
   "source": [
    "Параметры установки:\n",
    "\n",
    "- $z_0 = 2.2 \\pm 0.05 м$\n",
    "- $R = 114.6 \\pm 0.5 мм$;\n",
    "- $r = 30.5 \\pm 0.3 мм$.\n",
    "\n",
    "$k = \\frac{gRr}{4\\pi^2 z_0} \\approx 4 \\cdot 10^{-4} м^2/с^2$\n",
    "\n",
    "$\\sigma_k = \\sqrt{\\ferr{k}{R} + \\ferr{k}{r} + \\ferr{k}{z_0}} = \\frac{g}{4 \\pi^2} \\sqrt{\\frac{r^2\\err{R} + R^2 \\err{r}}{z_0^2} + \\frac{R^2r^2}{z_0^4} \\err{z_0} } = 10^{-5} м^2/c^2$"
   ]
  },
  {
   "cell_type": "code",
   "execution_count": 33,
   "metadata": {
    "collapsed": false,
    "deletable": true,
    "editable": true
   },
   "outputs": [
    {
     "name": "stdout",
     "output_type": "stream",
     "text": [
      "k = 0.000395 +- 0.000010\n"
     ]
    }
   ],
   "source": [
    "z_0 = 2.2\n",
    "sigma_z_0 = 0.05\n",
    "\n",
    "R = 0.1146\n",
    "sigma_R = 0.0005\n",
    "\n",
    "r = 0.0305\n",
    "sigma_r = 0.0003\n",
    "\n",
    "g = 9.81\n",
    "\n",
    "k = (g * R * r) / ((2 * math.pi) ** 2 * z_0)\n",
    "sigma_k = (g / (2 * math.pi) ** 2) * math.sqrt(\n",
    "        ((r * sigma_R) ** 2 + (R * sigma_r) ** 2) / z_0 ** 2 +\n",
    "        (R * r * sigma_z_0 / z_0 ** 2) ** 2)\n",
    "print(\"k = %.6f +- %.6f\" % (k, sigma_k))"
   ]
  },
  {
   "cell_type": "markdown",
   "metadata": {
    "deletable": true,
    "editable": true
   },
   "source": [
    "Определим момент инерции ненагруженной платформы:\n",
    "\n",
    "- $n_0 = 60$ &mdash; число полученных счетчиком сигналов;\n",
    "- $N_0 = \\frac{n_0}{2} = 30$ &mdash; число полных колебаний; \n",
    "- $t_0 = 137.5 \\pm 1 с$ &mdash; время колебаний;\n",
    "- $M_0 = 1012.5 \\pm 0.3 г$ &mdash; масса платформы.\n",
    "\n",
    "$T_0 = \\frac{t_0}{N_0} \\approx 4.58 с$\n",
    "\n",
    "$\\sigma_{T_0} = \\frac{\\sigma_{t_0}}{N_0} \\approx 0.02 с$\n",
    "\n",
    "$J_0 = k M_0 T_0^2 \\approx 8.4 г \\cdot м^2$\n",
    "\n",
    "$\\sigma_{J_0} = \\sqrt{\\ferr{J_0}{k} + \\ferr{J_0}{M_0} + \\ferr{J_0}{T_0}} = \\sqrt{T_0^4 (M_0^2 \\err{k} + k^2 \\err{M_0} ) + 4 (k M_0 T_0)^2 \\err{T_0}} \\approx 0.2 г \\cdot м^2$"
   ]
  },
  {
   "cell_type": "code",
   "execution_count": 34,
   "metadata": {
    "collapsed": true,
    "deletable": true,
    "editable": true
   },
   "outputs": [],
   "source": [
    "def period(par_t, par_N):\n",
    "    return par_t / par_N\n",
    "\n",
    "def sigma_period(par_sigma_t, par_N):\n",
    "    return par_sigma_t / par_N\n",
    "\n",
    "def inertion(par_k, par_M, par_T):\n",
    "    return par_k * par_M * par_T ** 2\n",
    "\n",
    "def sigma_inertion(par_k, par_M, par_T,\n",
    "                   par_sigma_k, par_sigma_M, par_sigma_T):\n",
    "    return math.sqrt(par_T ** 4 * ((par_M * par_sigma_k) ** 2 + (par_k * par_sigma_M) ** 2) +\n",
    "                     (2 * par_k * par_M * par_T * par_sigma_T) ** 2)"
   ]
  },
  {
   "cell_type": "code",
   "execution_count": 35,
   "metadata": {
    "collapsed": false,
    "deletable": true,
    "editable": true
   },
   "outputs": [
    {
     "name": "stdout",
     "output_type": "stream",
     "text": [
      "T_0 = 4.58 +- 0.02\n",
      "J_0 = 8.40 +- 0.22\n"
     ]
    }
   ],
   "source": [
    "N_0 = 30\n",
    "\n",
    "t_0 = 137.5\n",
    "sigma_t_0 = 0.5\n",
    "\n",
    "M_0 = 1012.5\n",
    "sigma_M_0 = 0.3\n",
    "\n",
    "T_0 = period(t_0, N_0)\n",
    "sigma_T_0 = sigma_period(sigma_t_0, N_0)\n",
    "\n",
    "J_0 = inertion(k, M_0, T_0)\n",
    "sigma_J_0 = sigma_inertion(k, M_0, T_0,\n",
    "            sigma_k, sigma_M_0, sigma_T_0)\n",
    "\n",
    "print(\"T_0 = %.2f +- %.2f\" % (T_0, sigma_T_0))\n",
    "print(\"J_0 = %.2f +- %.2f\" % (J_0, sigma_J_0))"
   ]
  },
  {
   "cell_type": "markdown",
   "metadata": {
    "deletable": true,
    "editable": true
   },
   "source": [
    "Моменты инерции остальных тел мы можем вычислить по аналогичной формуле."
   ]
  },
  {
   "cell_type": "code",
   "execution_count": 36,
   "metadata": {
    "collapsed": false,
    "deletable": true,
    "editable": true
   },
   "outputs": [
    {
     "data": {
      "text/html": [
       "<div>\n",
       "<table border=\"1\" class=\"dataframe\">\n",
       "  <thead>\n",
       "    <tr style=\"text-align: right;\">\n",
       "      <th></th>\n",
       "      <th>$M$, г</th>\n",
       "      <th>$\\sigma_M$, г</th>\n",
       "      <th>$n$</th>\n",
       "      <th>$t$, с</th>\n",
       "      <th>$\\sigma_t$, с</th>\n",
       "      <th>$T$, с</th>\n",
       "      <th>$\\sigma_T$, с</th>\n",
       "      <th>$J$, $г \\cdot м^2$</th>\n",
       "      <th>$sigma_J$, $г \\cdot м^2$</th>\n",
       "    </tr>\n",
       "  </thead>\n",
       "  <tbody>\n",
       "    <tr>\n",
       "      <th>Тело 1</th>\n",
       "      <td>976.2</td>\n",
       "      <td>0.5</td>\n",
       "      <td>30</td>\n",
       "      <td>64.4</td>\n",
       "      <td>0.5</td>\n",
       "      <td>4.29</td>\n",
       "      <td>0.03</td>\n",
       "      <td>6.1</td>\n",
       "      <td>0.4</td>\n",
       "    </tr>\n",
       "    <tr>\n",
       "      <th>Тело 2</th>\n",
       "      <td>581.2</td>\n",
       "      <td>0.5</td>\n",
       "      <td>30</td>\n",
       "      <td>59.9</td>\n",
       "      <td>0.5</td>\n",
       "      <td>3.99</td>\n",
       "      <td>0.03</td>\n",
       "      <td>1.6</td>\n",
       "      <td>0.3</td>\n",
       "    </tr>\n",
       "    <tr>\n",
       "      <th>Тело 1 + Тело 2</th>\n",
       "      <td>1557.4</td>\n",
       "      <td>0.7</td>\n",
       "      <td>30</td>\n",
       "      <td>60.4</td>\n",
       "      <td>0.5</td>\n",
       "      <td>4.03</td>\n",
       "      <td>0.03</td>\n",
       "      <td>8.1</td>\n",
       "      <td>0.5</td>\n",
       "    </tr>\n",
       "  </tbody>\n",
       "</table>\n",
       "</div>"
      ],
      "text/plain": [
       "                 $M$, г  $\\sigma_M$, г  $n$  $t$, с  $\\sigma_t$, с  $T$, с  \\\n",
       "Тело 1            976.2            0.5   30    64.4            0.5    4.29   \n",
       "Тело 2            581.2            0.5   30    59.9            0.5    3.99   \n",
       "Тело 1 + Тело 2  1557.4            0.7   30    60.4            0.5    4.03   \n",
       "\n",
       "                 $\\sigma_T$, с  $J$, $г \\cdot м^2$  $sigma_J$, $г \\cdot м^2$  \n",
       "Тело 1                    0.03                 6.1                       0.4  \n",
       "Тело 2                    0.03                 1.6                       0.3  \n",
       "Тело 1 + Тело 2           0.03                 8.1                       0.5  "
      ]
     },
     "execution_count": 36,
     "metadata": {},
     "output_type": "execute_result"
    }
   ],
   "source": [
    "table_0 = pd.read_excel('Laba_1_2.xlsx', 0)\n",
    "\n",
    "M_t_0 = table_0.ix[:, 0].values\n",
    "sigma_M_t_0 = table_0.ix[:, 1].values\n",
    "\n",
    "N_t_0 = table_0.ix[:, 2].values / 2\n",
    "t_t_0 = table_0.ix[:, 3].values\n",
    "sigma_t_t_0 = table_0.ix[:, 4].values\n",
    "\n",
    "T_t_0, J_t_0, sigma_J_t_0, sigma_T_t_0 = [], [], [], []\n",
    "\n",
    "for i in range(len(table_0)):\n",
    "    T_t_0.append(period(t_t_0[i], N_t_0[i]))\n",
    "    sigma_T_t_0.append(sigma_period(sigma_t_t_0[i], N_t_0[i]))\n",
    "    J_t_0.append(inertion(k, M_0 + M_t_0[i], T_t_0[i]) - J_0)\n",
    "    sigma_J_t_0.append(sigma_inertion(k, M_0 + M_t_0[i], T_t_0[i],\n",
    "            sigma_k, math.sqrt(sigma_M_0 ** 2 + sigma_M_t_0[i] ** 2), sigma_T_t_0[i]))\n",
    "\n",
    "table_0['$T$, с'] = np.array(T_t_0).round(2)\n",
    "table_0['$\\sigma_T$, с'] = np.array(sigma_T_t_0).round(2)\n",
    "table_0['$J$, $г \\cdot м^2$'] = np.array(J_t_0).round(1)\n",
    "table_0['$sigma_J$, $г \\cdot м^2$'] = np.array(sigma_J_t_0).round(1)\n",
    "table_0.head(len(table_0))"
   ]
  },
  {
   "cell_type": "markdown",
   "metadata": {
    "deletable": true,
    "editable": true
   },
   "source": [
    "Таким образом, аддитивность моментов инерции выполняется &mdash; $J = 8.1 \\pm 0.5 г \\cdot м^2 \\approx 7.7 \\pm \\sqrt{0.3^2 + 0.4^2} г \\cdot м^2 = 7.7 \\pm 0.5 г \\cdot м^2 = J_1 + J_2$."
   ]
  },
  {
   "cell_type": "markdown",
   "metadata": {
    "deletable": true,
    "editable": true
   },
   "source": [
    "Рассмотрим систему раздвинутых половинок:\n",
    "\n",
    "- $M_1 = 709 \\pm 8 г$ &mdash; масса первой половинки;\n",
    "- $M_2 = 707 \\pm 4 г$ &mdash; масса второй половинки;\n",
    "- $M:= M_1 + M_2 = 1416 \\pm \\sqrt{8^2 + 4^2} = 1416 \\pm 9$ &mdash; их суммарная масса.\n",
    "\n",
    "Теорема Гюйгенса-Штайнера гласит, что $J = J_с + M h^2$, где $J_с$ &mdash; момент инерции диска, а $h$ &mdash; расстояние от центра масс каждой половинки до оси подвеса."
   ]
  },
  {
   "cell_type": "code",
   "execution_count": 37,
   "metadata": {
    "collapsed": false,
    "deletable": true,
    "editable": true
   },
   "outputs": [
    {
     "data": {
      "text/html": [
       "<div>\n",
       "<table border=\"1\" class=\"dataframe\">\n",
       "  <thead>\n",
       "    <tr style=\"text-align: right;\">\n",
       "      <th></th>\n",
       "      <th>$h$, см</th>\n",
       "      <th>$\\sigma_h$, см</th>\n",
       "      <th>$n$</th>\n",
       "      <th>$t$, с</th>\n",
       "      <th>$\\sigma_t$, с</th>\n",
       "      <th>$T$, с</th>\n",
       "      <th>$\\sigma_T$, с</th>\n",
       "      <th>$J$, $г \\cdot м^2$</th>\n",
       "      <th>$\\sigma_J$, $г \\cdot м^2$</th>\n",
       "    </tr>\n",
       "  </thead>\n",
       "  <tbody>\n",
       "    <tr>\n",
       "      <th>0</th>\n",
       "      <td>0.00</td>\n",
       "      <td>0.05</td>\n",
       "      <td>30</td>\n",
       "      <td>47.0</td>\n",
       "      <td>0.5</td>\n",
       "      <td>3.13</td>\n",
       "      <td>0.03</td>\n",
       "      <td>1.0</td>\n",
       "      <td>0.3</td>\n",
       "    </tr>\n",
       "    <tr>\n",
       "      <th>1</th>\n",
       "      <td>1.80</td>\n",
       "      <td>0.05</td>\n",
       "      <td>30</td>\n",
       "      <td>47.9</td>\n",
       "      <td>0.5</td>\n",
       "      <td>3.19</td>\n",
       "      <td>0.03</td>\n",
       "      <td>1.4</td>\n",
       "      <td>0.3</td>\n",
       "    </tr>\n",
       "    <tr>\n",
       "      <th>2</th>\n",
       "      <td>2.50</td>\n",
       "      <td>0.05</td>\n",
       "      <td>30</td>\n",
       "      <td>49.0</td>\n",
       "      <td>0.5</td>\n",
       "      <td>3.27</td>\n",
       "      <td>0.03</td>\n",
       "      <td>1.8</td>\n",
       "      <td>0.3</td>\n",
       "    </tr>\n",
       "    <tr>\n",
       "      <th>3</th>\n",
       "      <td>3.50</td>\n",
       "      <td>0.05</td>\n",
       "      <td>30</td>\n",
       "      <td>50.0</td>\n",
       "      <td>0.5</td>\n",
       "      <td>3.33</td>\n",
       "      <td>0.03</td>\n",
       "      <td>2.3</td>\n",
       "      <td>0.3</td>\n",
       "    </tr>\n",
       "    <tr>\n",
       "      <th>4</th>\n",
       "      <td>4.00</td>\n",
       "      <td>0.05</td>\n",
       "      <td>30</td>\n",
       "      <td>52.3</td>\n",
       "      <td>0.5</td>\n",
       "      <td>3.49</td>\n",
       "      <td>0.03</td>\n",
       "      <td>3.3</td>\n",
       "      <td>0.4</td>\n",
       "    </tr>\n",
       "    <tr>\n",
       "      <th>5</th>\n",
       "      <td>5.10</td>\n",
       "      <td>0.05</td>\n",
       "      <td>30</td>\n",
       "      <td>55.0</td>\n",
       "      <td>0.5</td>\n",
       "      <td>3.67</td>\n",
       "      <td>0.03</td>\n",
       "      <td>4.5</td>\n",
       "      <td>0.4</td>\n",
       "    </tr>\n",
       "    <tr>\n",
       "      <th>6</th>\n",
       "      <td>6.05</td>\n",
       "      <td>0.05</td>\n",
       "      <td>31</td>\n",
       "      <td>60.6</td>\n",
       "      <td>0.5</td>\n",
       "      <td>3.91</td>\n",
       "      <td>0.03</td>\n",
       "      <td>6.3</td>\n",
       "      <td>0.4</td>\n",
       "    </tr>\n",
       "    <tr>\n",
       "      <th>7</th>\n",
       "      <td>7.05</td>\n",
       "      <td>0.05</td>\n",
       "      <td>30</td>\n",
       "      <td>61.8</td>\n",
       "      <td>0.5</td>\n",
       "      <td>4.12</td>\n",
       "      <td>0.03</td>\n",
       "      <td>7.9</td>\n",
       "      <td>0.5</td>\n",
       "    </tr>\n",
       "    <tr>\n",
       "      <th>8</th>\n",
       "      <td>8.05</td>\n",
       "      <td>0.05</td>\n",
       "      <td>30</td>\n",
       "      <td>65.7</td>\n",
       "      <td>0.5</td>\n",
       "      <td>4.38</td>\n",
       "      <td>0.03</td>\n",
       "      <td>10.0</td>\n",
       "      <td>0.5</td>\n",
       "    </tr>\n",
       "  </tbody>\n",
       "</table>\n",
       "</div>"
      ],
      "text/plain": [
       "   $h$, см  $\\sigma_h$, см  $n$  $t$, с  $\\sigma_t$, с  $T$, с  $\\sigma_T$, с  \\\n",
       "0     0.00            0.05   30    47.0            0.5    3.13           0.03   \n",
       "1     1.80            0.05   30    47.9            0.5    3.19           0.03   \n",
       "2     2.50            0.05   30    49.0            0.5    3.27           0.03   \n",
       "3     3.50            0.05   30    50.0            0.5    3.33           0.03   \n",
       "4     4.00            0.05   30    52.3            0.5    3.49           0.03   \n",
       "5     5.10            0.05   30    55.0            0.5    3.67           0.03   \n",
       "6     6.05            0.05   31    60.6            0.5    3.91           0.03   \n",
       "7     7.05            0.05   30    61.8            0.5    4.12           0.03   \n",
       "8     8.05            0.05   30    65.7            0.5    4.38           0.03   \n",
       "\n",
       "   $J$, $г \\cdot м^2$  $\\sigma_J$, $г \\cdot м^2$  \n",
       "0                 1.0                        0.3  \n",
       "1                 1.4                        0.3  \n",
       "2                 1.8                        0.3  \n",
       "3                 2.3                        0.3  \n",
       "4                 3.3                        0.4  \n",
       "5                 4.5                        0.4  \n",
       "6                 6.3                        0.4  \n",
       "7                 7.9                        0.5  \n",
       "8                10.0                        0.5  "
      ]
     },
     "execution_count": 37,
     "metadata": {},
     "output_type": "execute_result"
    }
   ],
   "source": [
    "M_t_1 = 1416\n",
    "sigma_M_t_1 = 9\n",
    "\n",
    "table_1 = pd.read_excel('Laba_1_2.xlsx', 1)\n",
    "\n",
    "h_t_1 = table_1.ix[:, 0].values\n",
    "sigma_h_t_1 = table_1.ix[:, 1].values\n",
    "N_t_1 = table_1.ix[:, 2].values / 2\n",
    "t_t_1 = table_1.ix[:, 3].values\n",
    "sigma_t_t_1 = table_1.ix[:, 4].values\n",
    "\n",
    "T_t_1, sigma_T_t_1, J_t_1, sigma_J_t_1 = [], [], [], []\n",
    "\n",
    "for i in range(len(table_1)):\n",
    "    T_t_1.append(period(t_t_1[i], N_t_1[i]))\n",
    "    sigma_T_t_1.append(sigma_period(sigma_t_t_1[i], N_t_1[i]))\n",
    "    J_t_1.append(inertion(k, M_0 + M_t_1, T_t_1[i]) - J_0)\n",
    "    sigma_J_t_1.append(sigma_inertion(k, M_0 + M_t_1, T_t_1[i],\n",
    "            sigma_k, math.sqrt(sigma_M_0 ** 2 + sigma_M_t_1 ** 2), sigma_T_t_1[i]))\n",
    "\n",
    "table_1['$T$, с'] = np.array(T_t_1).round(2)\n",
    "table_1['$\\sigma_T$, с'] = np.array(sigma_T_t_1).round(2)\n",
    "table_1['$J$, $г \\cdot м^2$'] = np.array(J_t_1).round(1)\n",
    "table_1['$\\sigma_J$, $г \\cdot м^2$'] = np.array(sigma_J_t_1).round(1)\n",
    "\n",
    "table_1.head(len(table_1))"
   ]
  },
  {
   "cell_type": "code",
   "execution_count": 38,
   "metadata": {
    "collapsed": false,
    "deletable": true,
    "editable": true
   },
   "outputs": [
    {
     "data": {
      "image/png": "[encoded data removed]",
      "text/plain": [
       "<matplotlib.figure.Figure at 0x7fd2cc8ae4a8>"
      ]
     },
     "metadata": {},
     "output_type": "display_data"
    }
   ],
   "source": [
    "x = np.array(h_t_1) ** 2\n",
    "y = np.array(J_t_1)\n",
    "sigma_x = 2 * np.array(h_t_1) * np.array(sigma_h_t_1)\n",
    "sigma_y = np.array(sigma_J_t_1)\n",
    "\n",
    "a, b = np.polyfit(x, y, deg=1)\n",
    "a_1, b_1 = np.polyfit(x, y - sigma_y * np.linspace(1, -1, len(sigma_y)), deg=1)\n",
    "a_2, b_2 = np.polyfit(x, y + sigma_y * np.linspace(1, -1, len(sigma_y)), deg=1)\n",
    "\n",
    "plt.figure(figsize=(14, 8))\n",
    "plt.grid(linestyle='--')\n",
    "plt.title('Зависимость $J$ от $h^2$', fontweight='bold', fontsize=16)\n",
    "plt.xlabel('$h^2, см^2$', fontsize=16)\n",
    "plt.ylabel('$J, г \\cdot м^2$', fontsize=16)\n",
    "plt.plot(x, b + x * a, color='dimgrey')\n",
    "plt.plot(x, b_1 + x * a_1, color='dimgrey', ls='--')\n",
    "plt.plot(x, b_2 + x * a_2, color='dimgrey', ls='--')\n",
    "plt.scatter(x, y, color='darkslategrey')\n",
    "plt.errorbar(x, y, xerr=sigma_x, yerr=sigma_y, ls ='none', color = 'deeppink')\n",
    "plt.show()"
   ]
  },
  {
   "cell_type": "markdown",
   "metadata": {
    "deletable": true,
    "editable": true
   },
   "source": [
    "Определим погрешности как $\\sigma_m = \\frac{m_\\max - m_\\min}{\\sqrt{N_{exp}}}$, $\\sigma_{J_с} = \\frac{{J_с}_\\max - {J_с}_\\min}{\\sqrt{N_{exp}}}$."
   ]
  },
  {
   "cell_type": "code",
   "execution_count": 39,
   "metadata": {
    "collapsed": false,
    "deletable": true,
    "editable": true
   },
   "outputs": [
    {
     "name": "stdout",
     "output_type": "stream",
     "text": [
      "m = 1408 +- 85 г\n",
      "J_с = 0.90 +- 0.17 г $\\cdot$ м^2\n"
     ]
    }
   ],
   "source": [
    "exp_t_1 = len(table_1)\n",
    "sigma_a = (a_1 - a_2) / math.sqrt(exp_t_1)\n",
    "sigma_b = (b_2 - b_1) / math.sqrt(exp_t_1)\n",
    "print(\"m = %.0f +- %.0f г\" %(a * 10000, sigma_a * 10000))\n",
    "print(\"J_с = %.2f +- %.2f г $\\cdot$ м^2\" %(b, sigma_b))"
   ]
  },
  {
   "cell_type": "markdown",
   "metadata": {
    "deletable": true,
    "editable": true
   },
   "source": [
    "Диаметр диска $D = 8 \\pm 0.1 см$; откуда его момент инерции равен (аналогично платформе) $J_с = \\frac{MD^2}{8} = 1.43 кг \\cdot м^2$;\n",
    "\n",
    "$\\sigma_{J_с} = \\sqrt{\\ferr{J_c}{M} + \\ferr{J_c}{D}} = \\frac{1}{8} \\sqrt{D^4 \\err{M} + {(2MD)}^2 \\err{D}} = 0.05 г \\cdot м^2$.\n",
    "\n",
    "Таким образом, $M = 1408 \\pm 85 г \\approx 1416 \\pm 9 г$;\n",
    "\n",
    "$J_c = 0.9 \\pm 0.2 г \\cdot м^2$, что отличается от $1.43 \\pm 0.05 г \\cdot м^2$."
   ]
  },
  {
   "cell_type": "code",
   "execution_count": 40,
   "metadata": {
    "collapsed": false,
    "deletable": true,
    "editable": true
   },
   "outputs": [
    {
     "name": "stdout",
     "output_type": "stream",
     "text": [
      "J_с = 1.43 +- 0.05 г $\\cdot$ м^2\n"
     ]
    }
   ],
   "source": [
    "D = 0.09\n",
    "sigma_D = 0.001\n",
    "\n",
    "J_c = M_t_1 * D ** 2 / 8\n",
    "sigma_J_c = math.sqrt((D ** 2 * sigma_M_t_1) +\n",
    "                      (2 * M_t_1 * D * sigma_D) ** 2) / 8\n",
    "print(\"J_с = %.2f +- %.2f г $\\cdot$ м^2\" %(J_c, sigma_J_c))"
   ]
  },
  {
   "cell_type": "markdown",
   "metadata": {
    "deletable": true,
    "editable": true
   },
   "source": [
    "Рассмотрим брусок:\n",
    "\n",
    "- $a = 21.00 \\pm 0.05 см$ &mdash; его длина;\n",
    "- $b = 2.75 \\pm 0.05 см$ &mdash; его ширина;\n",
    "- $c = 2.65 \\pm 0.05 см$ &mdash; его высота;\n",
    "- $M = 1205 \\pm 1 г$ &mdash; его масса;\n",
    "- $n = 30$, $t = 56.5 \\pm 0.5 с$ &mdash; данные, полученные из эксперимента.\n",
    "\n",
    "Из вычислений:\n",
    "\n",
    "- $T = 3.77 \\pm 0.03 с$ &mdash; период колебаний;\n",
    "- $J = 4.0 \\pm 0.4 г \\cdot м^2$ &mdash; момент инерции;"
   ]
  },
  {
   "cell_type": "code",
   "execution_count": 41,
   "metadata": {
    "collapsed": false,
    "deletable": true,
    "editable": true
   },
   "outputs": [
    {
     "name": "stdout",
     "output_type": "stream",
     "text": [
      "T_b = 3.77 +- 0.03\n",
      "J_b = 4.02 +- 0.38\n"
     ]
    }
   ],
   "source": [
    "n_b = 30\n",
    "N_b = n_b / 2\n",
    "t_b = 56.5\n",
    "sigma_t_b = 0.5\n",
    "\n",
    "M_b = 1205\n",
    "sigma_M_b = 1\n",
    "\n",
    "T_b = period(t_b, N_b)\n",
    "sigma_T_b = period(sigma_t_b, N_b)\n",
    "\n",
    "J_b = inertion(k, M_0 + M_b, T_b) - J_0\n",
    "sigma_J_b = sigma_inertion(k, M_0 + M_b, T_b,\n",
    "            sigma_k, math.sqrt(sigma_M_0 ** 2 + sigma_M_b ** 2), sigma_T_b)\n",
    "\n",
    "print(\"T_b = %.2f +- %.2f\" % (T_b, sigma_T_b))\n",
    "print(\"J_b = %.2f +- %.2f\" % (J_b, sigma_J_b))"
   ]
  },
  {
   "cell_type": "markdown",
   "metadata": {
    "deletable": true,
    "editable": true
   },
   "source": [
    "Пусть мы положили параллелепипед так, что ось подвеса параллельна стороне $b$ и проходит через центр масс.\n",
    "\n",
    "С помощью теоремы Гюйгенса-Штайнера: $J = \\frac{M}{12}(a^2 + c^2) = 4.5 г \\cdot м^2$;\n",
    "\n",
    "$\\sigma_J = \\sqrt{\\ferr{J}{M} + \\ferr{J}{a} + \\ferr{J}{b}} = \\frac{1}{12}\\sqrt{(a^2 + c^2)^2 \\err{M} + (2 Ma)^2 \\err{a} + (2 Mc)^2 \\err{c}} = 0.3 г \\cdot м^2$;"
   ]
  },
  {
   "cell_type": "code",
   "execution_count": 42,
   "metadata": {
    "collapsed": false,
    "deletable": true,
    "editable": true
   },
   "outputs": [
    {
     "name": "stdout",
     "output_type": "stream",
     "text": [
      "J_b = 4.50 +- 0.26\n"
     ]
    }
   ],
   "source": [
    "a_b = 0.21\n",
    "b_b = 0.0275\n",
    "c_b = 0.0265\n",
    "sigma_side = 0.0005\n",
    "\n",
    "J_b_o = M_b *(a_b ** 2 + c_b ** 2) /12\n",
    "sigma_J_b_o = math.sqrt((sigma_M_b * (a_b ** 2 + c_b ** 2)) ** 2 +\n",
    "                      (2 * M_b * sigma_side) ** 2 *(a_b ** 2 + c_b ** 2))\n",
    "print(\"J_b = %.2f +- %.2f\" % (J_b_o, sigma_J_b_o))"
   ]
  },
  {
   "cell_type": "markdown",
   "metadata": {
    "deletable": true,
    "editable": true
   },
   "source": [
    "Тогда $J = 4.5 \\pm 0.3 г \\cdot м^2 \\approx 4.0 + 0.3 г \\cdot м^2$, т.е. в пределах погрешностей моменты инерции совпадают."
   ]
  }
 ],
 "metadata": {
  "kernelspec": {
   "display_name": "Python 3",
   "language": "python",
   "name": "python3"
  },
  "language_info": {
   "codemirror_mode": {
    "name": "ipython",
    "version": 3
   },
   "file_extension": ".py",
   "mimetype": "text/x-python",
   "name": "python",
   "nbconvert_exporter": "python",
   "pygments_lexer": "ipython3",
   "version": "3.5.2"
  }
 },
 "nbformat": 4,
 "nbformat_minor": 2
}
